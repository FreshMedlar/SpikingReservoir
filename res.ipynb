{
 "cells": [
  {
   "cell_type": "markdown",
   "metadata": {},
   "source": [
    "---\n",
    "FIRST\n",
    "\n",
    "---"
   ]
  },
  {
   "cell_type": "code",
   "execution_count": 1,
   "metadata": {},
   "outputs": [],
   "source": [
    "# read it in to inspect it\n",
    "with open('tinyshakespeare.txt', 'r', encoding='utf-8') as f:\n",
    "    text = f.read()"
   ]
  },
  {
   "cell_type": "code",
   "execution_count": 2,
   "metadata": {},
   "outputs": [
    {
     "name": "stdout",
     "output_type": "stream",
     "text": [
      "length of dataset in characters:  1115394\n",
      "\n",
      " !$&',-.3:;?ABCDEFGHIJKLMNOPQRSTUVWXYZabcdefghijklmnopqrstuvwxyz\n",
      "65\n",
      " \n"
     ]
    }
   ],
   "source": [
    "print(\"length of dataset in characters: \", len(text))\n",
    "# here are all the unique characters that occur in this text\n",
    "chars = sorted(list(set(text)))\n",
    "vocab_size = len(chars)\n",
    "print(''.join(chars))\n",
    "print(vocab_size)\n",
    "print(chars[1])"
   ]
  },
  {
   "cell_type": "code",
   "execution_count": 3,
   "metadata": {},
   "outputs": [
    {
     "name": "stdout",
     "output_type": "stream",
     "text": [
      "[46, 47, 47, 1, 58, 46, 43, 56, 43]\n",
      "hii there\n"
     ]
    }
   ],
   "source": [
    "# create a mapping from characters to integers\n",
    "stoi = { ch:i for i,ch in enumerate(chars) }\n",
    "itos = { i:ch for i,ch in enumerate(chars) }\n",
    "encode = lambda s: [stoi[c] for c in s] # encoder: take a string, output a list of integers\n",
    "decode = lambda l: ''.join([itos[i] for i in l]) # decoder: take a list of integers, output a string\n",
    "\n",
    "print(encode(\"hii there\"))\n",
    "print(decode(encode(\"hii there\")))"
   ]
  },
  {
   "cell_type": "code",
   "execution_count": 4,
   "metadata": {},
   "outputs": [
    {
     "name": "stdout",
     "output_type": "stream",
     "text": [
      "torch.Size([1115394]) torch.int64\n"
     ]
    }
   ],
   "source": [
    "# let's now encode the entire text dataset and store it into a torch.Tensor\n",
    "import torch # we use PyTorch: https://pytorch.org\n",
    "data = torch.tensor(encode(text), dtype=torch.long)\n",
    "print(data.shape, data.dtype)"
   ]
  },
  {
   "cell_type": "code",
   "execution_count": 5,
   "metadata": {},
   "outputs": [],
   "source": [
    "# Let's now split up the data into train and validation sets\n",
    "n = int(0.9*len(data)) # first 90% will be train, rest val\n",
    "train_data = data[:n]\n",
    "val_data = data[n:]"
   ]
  },
  {
   "cell_type": "markdown",
   "metadata": {},
   "source": [
    "---\n",
    "We now need to make characters into spike trains\n",
    "\n",
    "---"
   ]
  },
  {
   "cell_type": "code",
   "execution_count": 6,
   "metadata": {},
   "outputs": [
    {
     "name": "stdout",
     "output_type": "stream",
     "text": [
      "Generated Spike Trains:\n"
     ]
    }
   ],
   "source": [
    "import numpy as np\n",
    "\n",
    "def generate_spike_trains(input_data, U_max, U_min, N_sample):\n",
    "    \"\"\"\n",
    "    Generate spike trains using Poisson encoding.\n",
    "    \n",
    "    Parameters:\n",
    "        input_data (numpy.ndarray): Normalized input data (e.g., between U_min and U_max).\n",
    "        U_max (float): Maximum value of the input range.\n",
    "        U_min (float): Minimum value of the input range.\n",
    "        N_sample (int): Number of spike samples.\n",
    "    \n",
    "    Returns:\n",
    "        spike_trains (numpy.ndarray): Generated spike trains (0s and 1s).\n",
    "    \"\"\"\n",
    "    # Calculate average spike interval\n",
    "    h_k = N_sample * (U_max - input_data) / (U_max - U_min)\n",
    "    \n",
    "    # Generate intervals using Poisson distribution\n",
    "    intervals = np.random.poisson(h_k)\n",
    "    \n",
    "    # Generate spike trains\n",
    "    spike_trains = np.zeros((len(input_data), N_sample))\n",
    "    for i, interval in enumerate(intervals):\n",
    "        spike_indices = np.cumsum(np.random.choice(np.arange(1, N_sample + 1), interval, replace=False))\n",
    "        spike_indices = spike_indices[spike_indices < N_sample]\n",
    "        spike_trains[i, spike_indices] = 111\n",
    "    \n",
    "    return spike_trains\n",
    "\n",
    "\n",
    "# Example input data\n",
    "input_data = np.array([0.1, 0.4, 0.7, 0.9])  # Normalized input\n",
    "U_max = 1.0\n",
    "U_min = 0.0\n",
    "N_sample = 100  # Spike sampling times\n",
    "\n",
    "# Generate spike trains\n",
    "spikes = generate_spike_trains(input_data, U_max, U_min, N_sample)\n",
    "print(\"Generated Spike Trains:\")\n",
    "# print(spikes)\n"
   ]
  },
  {
   "cell_type": "code",
   "execution_count": 7,
   "metadata": {},
   "outputs": [
    {
     "name": "stdout",
     "output_type": "stream",
     "text": [
      "tensor([[1., 0., 0., 0., 0., 0., 0., 0., 0., 0., 0., 0., 0., 0., 0., 0., 0., 0.,\n",
      "         0., 0., 0., 0., 0., 0., 0., 0., 0., 0., 0., 0., 0., 0., 0., 0., 0., 0.,\n",
      "         0., 0., 0., 0., 0., 0., 0., 0., 0., 0., 0., 0., 0., 0., 0., 0., 0., 0.,\n",
      "         0., 0., 0., 0., 0., 0., 0., 0., 0., 0., 0.]])\n"
     ]
    }
   ],
   "source": [
    "# SIMPLEST ENCODING\n",
    "# each character activate 1 neuron, fixed\n",
    "\n",
    "def char_to_spike(char):\n",
    "    \"\"\"\n",
    "    One hot encoding of a character\n",
    "    \n",
    "    Parameters: \n",
    "        char (string): the character to encode\n",
    "    \n",
    "    Returns:\n",
    "        np.array of dimensions (N_sam, 65)   \n",
    "    \"\"\"\n",
    "    spikes = torch.zeros((1, 65))\n",
    "    spikes[0, char] = 1\n",
    "\n",
    "    return spikes\n",
    "\n",
    "print(char_to_spike(0))"
   ]
  },
  {
   "cell_type": "markdown",
   "metadata": {},
   "source": [
    "---\n",
    "Create the reservoire\n",
    "\n",
    "N_res is the number of neurons in the reservoir\n",
    "\n",
    "---"
   ]
  },
  {
   "cell_type": "code",
   "execution_count": 8,
   "metadata": {},
   "outputs": [],
   "source": [
    "import numpy as np\n",
    "from scipy.sparse import random\n",
    "from scipy.sparse.linalg import eigs  # For sparse eigenvalue computation\n",
    "\n",
    "# Parameters\n",
    "N_res = 1000  # Size of the reservoir (N_res x N_res)\n",
    "eta = 0.1    # Sparsity degree (10% non-zero entries)\n",
    "\n",
    "def uniform_rvs(size):\n",
    "    return np.random.uniform(low=-1.0, high=1.0, size=size)\n",
    "# Generate a sparse matrix with uniform random values in [-1, 1]\n",
    "W = random(N_res, N_res, density=eta, format='csr', data_rvs=uniform_rvs)\n",
    "\n",
    "# Convert to a dense matrix (optional, for visualization or further processing)\n",
    "W_dense = W.toarray()\n",
    "\n",
    "#Calculate the max eigenvalue and find the max\n",
    "max_eigenvalue = eigs(W, k=1, which='LM', return_eigenvectors=False)[0].real\n",
    "\n",
    "# Normalize W to get W_res\n",
    "rho = 0.9\n",
    "W_res = rho * (W / max_eigenvalue)\n",
    "W_res = torch.from_numpy(W_dense).to(torch.float32)"
   ]
  },
  {
   "cell_type": "code",
   "execution_count": 9,
   "metadata": {},
   "outputs": [
    {
     "data": {
      "text/plain": [
       "torch.float32"
      ]
     },
     "execution_count": 9,
     "metadata": {},
     "output_type": "execute_result"
    }
   ],
   "source": [
    "W_res.dtype"
   ]
  },
  {
   "cell_type": "markdown",
   "metadata": {},
   "source": [
    "---\n",
    "BATCH EXAMPLE\n",
    "\n",
    "---"
   ]
  },
  {
   "cell_type": "code",
   "execution_count": 10,
   "metadata": {},
   "outputs": [
    {
     "name": "stdout",
     "output_type": "stream",
     "text": [
      "inputs:\n",
      "torch.Size([4, 8])\n",
      "tensor([[24, 43, 58,  5, 57,  1, 46, 43],\n",
      "        [44, 53, 56,  1, 58, 46, 39, 58],\n",
      "        [52, 58,  1, 58, 46, 39, 58,  1],\n",
      "        [25, 17, 27, 10,  0, 21,  1, 54]])\n",
      "targets:\n",
      "torch.Size([4, 8])\n",
      "tensor([[43, 58,  5, 57,  1, 46, 43, 39],\n",
      "        [53, 56,  1, 58, 46, 39, 58,  1],\n",
      "        [58,  1, 58, 46, 39, 58,  1, 46],\n",
      "        [17, 27, 10,  0, 21,  1, 54, 39]])\n",
      "----\n"
     ]
    }
   ],
   "source": [
    "torch.manual_seed(1337)\n",
    "batch_size = 4 # how many independent sequences will we process in parallel?\n",
    "block_size = 8 # what is the maximum context length for predictions?\n",
    "\n",
    "def get_batch(split):\n",
    "    # generate a small batch of data of inputs x and targets y\n",
    "    data = train_data if split == 'train' else val_data\n",
    "    ix = torch.randint(len(data) - block_size, (batch_size,))\n",
    "    x = torch.stack([data[i:i+block_size] for i in ix])\n",
    "    y = torch.stack([data[i+1:i+block_size+1] for i in ix])\n",
    "    return x, y\n",
    "\n",
    "xb, yb = get_batch('train')\n",
    "print('inputs:')\n",
    "print(xb.shape)\n",
    "print(xb)\n",
    "print('targets:')\n",
    "print(yb.shape)\n",
    "print(yb)\n",
    "\n",
    "print('----')\n",
    "\n",
    "# for b in range(batch_size): # batch dimension\n",
    "#     for t in range(block_size): # time dimension\n",
    "#         context = xb[b, :t+1]\n",
    "#         target = yb[b,t]\n",
    "#         print(f\"when input is {context.tolist()} the target: {target}\")"
   ]
  },
  {
   "cell_type": "code",
   "execution_count": 11,
   "metadata": {},
   "outputs": [
    {
     "name": "stdout",
     "output_type": "stream",
     "text": [
      "torch.Size([1, 1, 1000])\n"
     ]
    }
   ],
   "source": [
    "def tensor_to_one_hot(input_tensor, num_classes=1000):\n",
    "    \"\"\"\n",
    "    One hot encode all the data in a batch\n",
    "    \"\"\"\n",
    "    batch_size, seq_len = input_tensor.shape\n",
    "\n",
    "    # Create a zero tensor of shape (batch_size, seq_len, num_classes)\n",
    "    one_hot_tensor = torch.zeros((batch_size, seq_len, num_classes), dtype=torch.float32)\n",
    "\n",
    "    # Fill the one-hot tensor\n",
    "    for i in range(batch_size):\n",
    "        for j in range(seq_len):\n",
    "            one_hot_tensor[i, j, input_tensor[i, j]] = 1\n",
    "\n",
    "    return one_hot_tensor\n",
    "\n",
    "# Example usage\n",
    "input_tensor = torch.tensor([[24, 43, 58,  5, 57,  1, 46, 43],\n",
    "                              [44, 53, 56,  1, 58, 46, 39, 58],\n",
    "                              [52, 58,  1, 58, 46, 39, 58,  1],\n",
    "                              [25, 17, 27, 10,  0, 21,  1, 54]])\n",
    "\n",
    "one_hot_encoded_tensor = tensor_to_one_hot(torch.zeros((1, 1), dtype=torch.long))\n",
    "print(one_hot_encoded_tensor.shape)"
   ]
  },
  {
   "cell_type": "code",
   "execution_count": 12,
   "metadata": {},
   "outputs": [
    {
     "data": {
      "text/plain": [
       "torch.float32"
      ]
     },
     "execution_count": 12,
     "metadata": {},
     "output_type": "execute_result"
    }
   ],
   "source": [
    "one_hot_encoded_tensor.dtype    "
   ]
  },
  {
   "cell_type": "markdown",
   "metadata": {},
   "source": [
    "---\n",
    "Trainable output layer\n",
    "\n",
    "---"
   ]
  },
  {
   "cell_type": "code",
   "execution_count": 13,
   "metadata": {},
   "outputs": [
    {
     "name": "stdout",
     "output_type": "stream",
     "text": [
      "0\n"
     ]
    }
   ],
   "source": [
    "for i in range(1):\n",
    "    print(i)"
   ]
  },
  {
   "cell_type": "code",
   "execution_count": 30,
   "metadata": {},
   "outputs": [],
   "source": [
    "import torch\n",
    "import torch.nn as nn\n",
    "from torch.nn import functional as F\n",
    "import torch.optim as optim\n",
    "\n",
    "class SingleLayerNN(nn.Module):\n",
    "    def __init__(self, input_size=1000, hidden_size=500 ,output_size=65):\n",
    "        super(SingleLayerNN, self).__init__()\n",
    "\n",
    "        # self.linear = nn.Linear(input_size, output_size)\n",
    "        self.linear1 = nn.Linear(input_size, hidden_size)\n",
    "        self.linear2 = nn.Linear(hidden_size, output_size)\n",
    "        self.tanh = nn.Tanh()  # Define the ReLU activation function\n",
    "    \n",
    "    def reservoir_forward(self, input, targets=None):\n",
    "\n",
    "\n",
    "        xb_hot = tensor_to_one_hot(input)\n",
    "        B, T, C = xb_hot.shape\n",
    "        output = torch.zeros(B, T, 65)\n",
    "\n",
    "        if T > 1:\n",
    "            for b in range(T - 1):\n",
    "                xb_hot[:, b, :] = torch.atan(xb_hot[:, b, :] @ W_res)\n",
    "                xb_hot[:, b + 1, :] += xb_hot[:, b, :]\n",
    "            xb_hot[:, T - 1, :] = torch.atan(xb_hot[:, T - 2, :] @ W_res)\n",
    "        else:\n",
    "            xb_hot[:, 0, :] = torch.atan(xb_hot[:, 0, :] @ W_res)\n",
    "\n",
    "        output, loss = self(xb_hot, targets)\n",
    "\n",
    "        return output, loss\n",
    "\n",
    "    def forward(self, x, targets=None):\n",
    "        \n",
    "        x = self.linear1(x) # (B, T, C)\n",
    "        x = self.tanh(x)\n",
    "        output = self.linear2(x)\n",
    "\n",
    "        # output = self.linear(x)\n",
    "\n",
    "\n",
    "        if targets == None:\n",
    "            loss = None\n",
    "        else:\n",
    "            B, T, C = output.shape\n",
    "            output = output.view(B*T, C) \n",
    "            targets = targets.view(B*T)\n",
    "            loss = F.cross_entropy(output, targets)\n",
    "\n",
    "        return output, loss\n",
    "    \n",
    "    def generate(self, idx, max_new_tokens):\n",
    "        # idx is (B, T) array of indices in the current context\n",
    "        for _ in range(max_new_tokens):\n",
    "            # get the predictions\n",
    "            logits, loss = self.reservoir_forward(idx)\n",
    "            # focus only on the last time step\n",
    "            logits = logits[:, -1, :] # becomes (B, C)\n",
    "            # apply softmax to get probabilities\n",
    "            probs = F.softmax(logits, dim=-1) # (B, C)\n",
    "            # sample from the distribution\n",
    "            idx_next = torch.multinomial(probs, num_samples=1) # (B, 1)\n",
    "            # append sampled index to the running sequence\n",
    "            idx = torch.cat((idx, idx_next), dim=1) # (B, T+1)\n",
    "        return idx\n"
   ]
  },
  {
   "cell_type": "code",
   "execution_count": 31,
   "metadata": {},
   "outputs": [
    {
     "name": "stdout",
     "output_type": "stream",
     "text": [
      "torch.Size([65536, 65])\n",
      "tensor(4.2172, grad_fn=<NllLossBackward0>)\n",
      "\n",
      "$NA$Acnsb FgALJYTLrkFZIEhc,Ro,T$:ITl:AhCbnis\n",
      "EciEsSsjtOtABE&H&ebxk?coCzAOAAIhUWm,x.vA-a$ WjR.qhmowpW\n"
     ]
    }
   ],
   "source": [
    "model = SingleLayerNN(input_size=1000, output_size=65)\n",
    "\n",
    "output, loss = model.reservoir_forward(xb, yb)\n",
    "print(output.shape)\n",
    "print(loss)\n",
    "\n",
    "print(decode(model.generate(idx = torch.zeros((1, 1), dtype=torch.long), max_new_tokens=100)[0].tolist()))\n",
    "\n"
   ]
  },
  {
   "cell_type": "code",
   "execution_count": 38,
   "metadata": {},
   "outputs": [],
   "source": [
    "optimizer = torch.optim.AdamW(model.parameters(), lr=6e-5)"
   ]
  },
  {
   "cell_type": "code",
   "execution_count": 40,
   "metadata": {},
   "outputs": [
    {
     "name": "stdout",
     "output_type": "stream",
     "text": [
      "Step 1, Loss: 2.9978878498077393\n",
      "Step 2, Loss: 3.0033814907073975\n",
      "Step 3, Loss: 3.0004889965057373\n",
      "Step 4, Loss: 2.9936470985412598\n",
      "Step 5, Loss: 2.9929392337799072\n",
      "Step 6, Loss: 2.998530149459839\n",
      "Step 7, Loss: 3.001811981201172\n",
      "Step 8, Loss: 2.9915883541107178\n",
      "Step 9, Loss: 2.9886581897735596\n",
      "Step 10, Loss: 3.007965326309204\n",
      "Step 11, Loss: 3.0033786296844482\n",
      "Step 12, Loss: 2.9926836490631104\n",
      "Step 13, Loss: 2.9937071800231934\n",
      "Step 14, Loss: 2.987462043762207\n",
      "Step 15, Loss: 2.992145538330078\n",
      "Step 16, Loss: 2.9944958686828613\n",
      "Step 17, Loss: 2.9956274032592773\n",
      "Step 18, Loss: 2.996976852416992\n",
      "Step 19, Loss: 2.9907920360565186\n",
      "Step 20, Loss: 2.9913713932037354\n",
      "Step 21, Loss: 2.9937522411346436\n",
      "Step 22, Loss: 2.994356632232666\n",
      "Step 23, Loss: 2.992372989654541\n",
      "Step 24, Loss: 2.988926410675049\n",
      "Step 25, Loss: 2.985161304473877\n",
      "Step 26, Loss: 3.001751184463501\n",
      "Step 27, Loss: 2.9950640201568604\n",
      "Step 28, Loss: 2.9845898151397705\n",
      "Step 29, Loss: 2.991067886352539\n",
      "Step 30, Loss: 2.9889683723449707\n",
      "Step 31, Loss: 2.988354206085205\n",
      "Step 32, Loss: 2.991075277328491\n",
      "Step 33, Loss: 2.991408586502075\n",
      "Step 34, Loss: 2.991736650466919\n",
      "Step 35, Loss: 2.9874556064605713\n",
      "Step 36, Loss: 2.9772160053253174\n",
      "Step 37, Loss: 2.9844987392425537\n",
      "Step 38, Loss: 2.9776463508605957\n",
      "Step 39, Loss: 2.985414981842041\n",
      "Step 40, Loss: 2.986522912979126\n",
      "Step 41, Loss: 2.9867422580718994\n",
      "Step 42, Loss: 2.9835503101348877\n",
      "Step 43, Loss: 2.984051465988159\n",
      "Step 44, Loss: 2.97774338722229\n",
      "Step 45, Loss: 2.9802660942077637\n",
      "Step 46, Loss: 2.9875576496124268\n",
      "Step 47, Loss: 2.9879887104034424\n",
      "Step 48, Loss: 2.9914963245391846\n",
      "Step 49, Loss: 2.9725983142852783\n",
      "Step 50, Loss: 2.9884896278381348\n"
     ]
    },
    {
     "data": {
      "image/png": "[encoded data removed]",
      "text/plain": [
       "<Figure size 1000x600 with 1 Axes>"
      ]
     },
     "metadata": {},
     "output_type": "display_data"
    }
   ],
   "source": [
    "import matplotlib.pyplot as plt\n",
    "\n",
    "# Initialize a list to store the loss values\n",
    "loss_values = []\n",
    "\n",
    "batch_size = 8192\n",
    "for steps in range(50):  # Increase the number of steps for good results...\n",
    "\n",
    "    # Sample a batch of data\n",
    "    xb, yb = get_batch('train')\n",
    "\n",
    "    # Evaluate the loss\n",
    "    logits, loss = model.reservoir_forward(xb, yb)\n",
    "    optimizer.zero_grad(set_to_none=True)\n",
    "    loss.backward()\n",
    "    optimizer.step()\n",
    "\n",
    "    # Append the loss value to the list\n",
    "    loss_values.append(loss.item())\n",
    "\n",
    "    # Print the loss value\n",
    "    print(f\"Step {steps + 1}, Loss: {loss.item()}\")\n",
    "\n",
    "# Plot the loss values\n",
    "plt.figure(figsize=(10, 6))\n",
    "plt.plot(loss_values, label='Training Loss')\n",
    "plt.xlabel('Steps')\n",
    "plt.ylabel('Loss')\n",
    "plt.title('Training Loss Over Steps')\n",
    "plt.legend()\n",
    "plt.show()"
   ]
  },
  {
   "cell_type": "code",
   "execution_count": 48,
   "metadata": {},
   "outputs": [
    {
     "name": "stdout",
     "output_type": "stream",
     "text": [
      "Dense Multiplication Result Shape: torch.Size([1, 3000])\n"
     ]
    }
   ],
   "source": [
    "import torch\n",
    "\n",
    "# Create a dense (1, 3000) vector\n",
    "dense_vector = torch.randn(1, 3000)  # Shape: (1, 3000)\n",
    "\n",
    "# Create a dense (3000, 3000) matrix with 5% nonzero values\n",
    "dense_matrix = torch.randn(3000, 3000)  # Start with a dense matrix\n",
    "mask = torch.rand(3000, 3000) > 0.95  # Keep only 5% of the elements\n",
    "dense_matrix = dense_matrix * mask  # Apply mask\n",
    "\n",
    "# Perform the dense matrix multiplication\n",
    "result_dense = dense_vector @ dense_matrix  # Shape: (1, 3000)\n",
    "\n",
    "print(\"Dense Multiplication Result Shape:\", result_dense.shape)  # Expected: (1, 3000)"
   ]
  },
  {
   "cell_type": "code",
   "execution_count": 49,
   "metadata": {},
   "outputs": [],
   "source": [
    "for i in range(1000):\n",
    "    result = dense_vector @ dense_matrix\n",
    "    dense_vector = dense_vector + 1"
   ]
  },
  {
   "cell_type": "code",
   "execution_count": 50,
   "metadata": {},
   "outputs": [
    {
     "name": "stdout",
     "output_type": "stream",
     "text": [
      "Sparse Multiplication Result Shape: torch.Size([1, 3000])\n"
     ]
    }
   ],
   "source": [
    "import torch\n",
    "\n",
    "# Create a dense (1, 3000) vector\n",
    "dense_vector = torch.randn(1, 3000)  # Shape: (1, 3000)\n",
    "\n",
    "# Create a dense (3000, 3000) matrix with 5% nonzero values\n",
    "dense_matrix = torch.randn(3000, 3000)\n",
    "mask = torch.rand(3000, 3000) > 0.95  # Keep only 5% of the elements\n",
    "sparse_matrix = (dense_matrix * mask).to_sparse()  # Convert to sparse format\n",
    "\n",
    "# Perform sparse matrix multiplication\n",
    "result_sparse = dense_vector @ sparse_matrix  # Shape: (1, 3000)\n",
    "\n",
    "print(\"Sparse Multiplication Result Shape:\", result_sparse.shape)  # Expected: (1, 3000)\n"
   ]
  },
  {
   "cell_type": "code",
   "execution_count": 51,
   "metadata": {},
   "outputs": [],
   "source": [
    "for i in range(1000):\n",
    "    result = dense_vector @ sparse_matrix\n",
    "    dense_vector = dense_vector + 1"
   ]
  },
  {
   "cell_type": "code",
   "execution_count": null,
   "metadata": {},
   "outputs": [],
   "source": [
    "# Calculate the moving average of the loss values\n",
    "window_size = 10  # You can adjust the window size for smoother/rougher averaging\n",
    "moving_avg_loss = np.convolve(loss_values, np.ones(window_size)/window_size, mode='valid')\n",
    "\n",
    "# Plot the moving average of the loss values\n",
    "plt.figure(figsize=(10, 6))\n",
    "plt.plot(moving_avg_loss, label='Moving Average Training Loss')\n",
    "plt.xlabel('Steps')\n",
    "plt.ylabel('Loss')\n",
    "plt.title('Moving Average Training Loss Over Steps')\n",
    "plt.legend()\n",
    "plt.show()"
   ]
  },
  {
   "cell_type": "code",
   "execution_count": null,
   "metadata": {},
   "outputs": [],
   "source": []
  },
  {
   "cell_type": "code",
   "execution_count": null,
   "metadata": {},
   "outputs": [],
   "source": []
  },
  {
   "cell_type": "code",
   "execution_count": null,
   "metadata": {},
   "outputs": [],
   "source": []
  },
  {
   "cell_type": "markdown",
   "metadata": {},
   "source": [
    "---\n",
    "PASS\n",
    "\n",
    "---"
   ]
  },
  {
   "cell_type": "code",
   "execution_count": null,
   "metadata": {},
   "outputs": [],
   "source": [
    "\"\"\"\n",
    "    \n",
    "\"\"\""
   ]
  }
 ],
 "metadata": {
  "kernelspec": {
   "display_name": ".venv",
   "language": "python",
   "name": "python3"
  },
  "language_info": {
   "codemirror_mode": {
    "name": "ipython",
    "version": 3
   },
   "file_extension": ".py",
   "mimetype": "text/x-python",
   "name": "python",
   "nbconvert_exporter": "python",
   "pygments_lexer": "ipython3",
   "version": "3.13.1"
  }
 },
 "nbformat": 4,
 "nbformat_minor": 2
}
