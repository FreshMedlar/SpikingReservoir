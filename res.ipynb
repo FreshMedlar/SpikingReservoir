{
 "cells": [
  {
   "cell_type": "markdown",
   "metadata": {},
   "source": [
    "---\n",
    "FIRST\n",
    "\n",
    "---"
   ]
  },
  {
   "cell_type": "code",
   "execution_count": 1,
   "metadata": {},
   "outputs": [],
   "source": [
    "# read it in to inspect it\n",
    "with open('tinyshakespeare.txt', 'r', encoding='utf-8') as f:\n",
    "    text = f.read()"
   ]
  },
  {
   "cell_type": "code",
   "execution_count": 2,
   "metadata": {},
   "outputs": [
    {
     "name": "stdout",
     "output_type": "stream",
     "text": [
      "length of dataset in characters:  1115394\n",
      "\n",
      " !$&',-.3:;?ABCDEFGHIJKLMNOPQRSTUVWXYZabcdefghijklmnopqrstuvwxyz\n",
      "65\n",
      " \n"
     ]
    }
   ],
   "source": [
    "print(\"length of dataset in characters: \", len(text))\n",
    "# here are all the unique characters that occur in this text\n",
    "chars = sorted(list(set(text)))\n",
    "vocab_size = len(chars)\n",
    "print(''.join(chars))\n",
    "print(vocab_size)\n",
    "print(chars[1])"
   ]
  },
  {
   "cell_type": "code",
   "execution_count": 3,
   "metadata": {},
   "outputs": [
    {
     "name": "stdout",
     "output_type": "stream",
     "text": [
      "[46, 47, 47, 1, 58, 46, 43, 56, 43]\n",
      "hii there\n"
     ]
    }
   ],
   "source": [
    "# create a mapping from characters to integers\n",
    "stoi = { ch:i for i,ch in enumerate(chars) }\n",
    "itos = { i:ch for i,ch in enumerate(chars) }\n",
    "encode = lambda s: [stoi[c] for c in s] # encoder: take a string, output a list of integers\n",
    "decode = lambda l: ''.join([itos[i] for i in l]) # decoder: take a list of integers, output a string\n",
    "\n",
    "print(encode(\"hii there\"))\n",
    "print(decode(encode(\"hii there\")))"
   ]
  },
  {
   "cell_type": "code",
   "execution_count": 4,
   "metadata": {},
   "outputs": [
    {
     "name": "stdout",
     "output_type": "stream",
     "text": [
      "torch.Size([1115394]) torch.int64\n"
     ]
    }
   ],
   "source": [
    "# let's now encode the entire text dataset and store it into a torch.Tensor\n",
    "import torch # we use PyTorch: https://pytorch.org\n",
    "data = torch.tensor(encode(text), dtype=torch.long)\n",
    "print(data.shape, data.dtype)"
   ]
  },
  {
   "cell_type": "code",
   "execution_count": 5,
   "metadata": {},
   "outputs": [],
   "source": [
    "# Let's now split up the data into train and validation sets\n",
    "n = int(0.9*len(data)) # first 90% will be train, rest val\n",
    "train_data = data[:n]\n",
    "val_data = data[n:]"
   ]
  },
  {
   "cell_type": "markdown",
   "metadata": {},
   "source": [
    "---\n",
    "We now need to make characters into spike trains\n",
    "\n",
    "---"
   ]
  },
  {
   "cell_type": "code",
   "execution_count": 6,
   "metadata": {},
   "outputs": [
    {
     "name": "stdout",
     "output_type": "stream",
     "text": [
      "Generated Spike Trains:\n"
     ]
    }
   ],
   "source": [
    "import numpy as np\n",
    "\n",
    "def generate_spike_trains(input_data, U_max, U_min, N_sample):\n",
    "    \"\"\"\n",
    "    Generate spike trains using Poisson encoding.\n",
    "    \n",
    "    Parameters:\n",
    "        input_data (numpy.ndarray): Normalized input data (e.g., between U_min and U_max).\n",
    "        U_max (float): Maximum value of the input range.\n",
    "        U_min (float): Minimum value of the input range.\n",
    "        N_sample (int): Number of spike samples.\n",
    "    \n",
    "    Returns:\n",
    "        spike_trains (numpy.ndarray): Generated spike trains (0s and 1s).\n",
    "    \"\"\"\n",
    "    # Calculate average spike interval\n",
    "    h_k = N_sample * (U_max - input_data) / (U_max - U_min)\n",
    "    \n",
    "    # Generate intervals using Poisson distribution\n",
    "    intervals = np.random.poisson(h_k)\n",
    "    \n",
    "    # Generate spike trains\n",
    "    spike_trains = np.zeros((len(input_data), N_sample))\n",
    "    for i, interval in enumerate(intervals):\n",
    "        spike_indices = np.cumsum(np.random.choice(np.arange(1, N_sample + 1), interval, replace=False))\n",
    "        spike_indices = spike_indices[spike_indices < N_sample]\n",
    "        spike_trains[i, spike_indices] = 111\n",
    "    \n",
    "    return spike_trains\n",
    "\n",
    "\n",
    "# Example input data\n",
    "input_data = np.array([0.1, 0.4, 0.7, 0.9])  # Normalized input\n",
    "U_max = 1.0\n",
    "U_min = 0.0\n",
    "N_sample = 100  # Spike sampling times\n",
    "\n",
    "# Generate spike trains\n",
    "spikes = generate_spike_trains(input_data, U_max, U_min, N_sample)\n",
    "print(\"Generated Spike Trains:\")\n",
    "# print(spikes)\n"
   ]
  },
  {
   "cell_type": "code",
   "execution_count": 7,
   "metadata": {},
   "outputs": [
    {
     "name": "stdout",
     "output_type": "stream",
     "text": [
      "tensor([[1., 0., 0., 0., 0., 0., 0., 0., 0., 0., 0., 0., 0., 0., 0., 0., 0., 0.,\n",
      "         0., 0., 0., 0., 0., 0., 0., 0., 0., 0., 0., 0., 0., 0., 0., 0., 0., 0.,\n",
      "         0., 0., 0., 0., 0., 0., 0., 0., 0., 0., 0., 0., 0., 0., 0., 0., 0., 0.,\n",
      "         0., 0., 0., 0., 0., 0., 0., 0., 0., 0., 0.]])\n"
     ]
    }
   ],
   "source": [
    "# SIMPLEST ENCODING\n",
    "# each character activate 1 neuron, fixed\n",
    "\n",
    "def char_to_spike(char):\n",
    "    \"\"\"\n",
    "    One hot encoding of a character\n",
    "    \n",
    "    Parameters: \n",
    "        char (string): the character to encode\n",
    "    \n",
    "    Returns:\n",
    "        np.array of dimensions (N_sam, 65)   \n",
    "    \"\"\"\n",
    "    spikes = torch.zeros((1, 65))\n",
    "    spikes[0, char] = 1\n",
    "\n",
    "    return spikes\n",
    "\n",
    "print(char_to_spike(0))"
   ]
  },
  {
   "cell_type": "markdown",
   "metadata": {},
   "source": [
    "---\n",
    "Create the reservoire\n",
    "\n",
    "N_res is the number of neurons in the reservoir\n",
    "\n",
    "---"
   ]
  },
  {
   "cell_type": "code",
   "execution_count": 8,
   "metadata": {},
   "outputs": [],
   "source": [
    "import numpy as np\n",
    "from scipy.sparse import random\n",
    "from scipy.sparse.linalg import eigs  # For sparse eigenvalue computation\n",
    "\n",
    "# Parameters\n",
    "N_res = 1000  # Size of the reservoir (N_res x N_res)\n",
    "eta = 0.1    # Sparsity degree (10% non-zero entries)\n",
    "\n",
    "def uniform_rvs(size):\n",
    "    return np.random.uniform(low=-1.0, high=1.0, size=size)\n",
    "# Generate a sparse matrix with uniform random values in [-1, 1]\n",
    "W = random(N_res, N_res, density=eta, format='csr', data_rvs=uniform_rvs)\n",
    "\n",
    "# Convert to a dense matrix (optional, for visualization or further processing)\n",
    "W_dense = W.toarray()\n",
    "\n",
    "#Calculate the max eigenvalue and find the max\n",
    "max_eigenvalue = eigs(W, k=1, which='LM', return_eigenvectors=False)[0].real\n",
    "\n",
    "# Normalize W to get W_res\n",
    "rho = 0.9\n",
    "W_res = rho * (W / max_eigenvalue)\n",
    "W_res = torch.from_numpy(W_dense).to(torch.float32)"
   ]
  },
  {
   "cell_type": "code",
   "execution_count": 9,
   "metadata": {},
   "outputs": [
    {
     "data": {
      "text/plain": [
       "torch.float32"
      ]
     },
     "execution_count": 9,
     "metadata": {},
     "output_type": "execute_result"
    }
   ],
   "source": [
    "W_res.dtype"
   ]
  },
  {
   "cell_type": "markdown",
   "metadata": {},
   "source": [
    "---\n",
    "BATCH EXAMPLE\n",
    "\n",
    "---"
   ]
  },
  {
   "cell_type": "code",
   "execution_count": 10,
   "metadata": {},
   "outputs": [
    {
     "name": "stdout",
     "output_type": "stream",
     "text": [
      "inputs:\n",
      "torch.Size([4, 8])\n",
      "tensor([[24, 43, 58,  5, 57,  1, 46, 43],\n",
      "        [44, 53, 56,  1, 58, 46, 39, 58],\n",
      "        [52, 58,  1, 58, 46, 39, 58,  1],\n",
      "        [25, 17, 27, 10,  0, 21,  1, 54]])\n",
      "targets:\n",
      "torch.Size([4, 8])\n",
      "tensor([[43, 58,  5, 57,  1, 46, 43, 39],\n",
      "        [53, 56,  1, 58, 46, 39, 58,  1],\n",
      "        [58,  1, 58, 46, 39, 58,  1, 46],\n",
      "        [17, 27, 10,  0, 21,  1, 54, 39]])\n",
      "----\n"
     ]
    }
   ],
   "source": [
    "torch.manual_seed(1337)\n",
    "batch_size = 4 # how many independent sequences will we process in parallel?\n",
    "block_size = 8 # what is the maximum context length for predictions?\n",
    "\n",
    "def get_batch(split):\n",
    "    # generate a small batch of data of inputs x and targets y\n",
    "    data = train_data if split == 'train' else val_data\n",
    "    ix = torch.randint(len(data) - block_size, (batch_size,))\n",
    "    x = torch.stack([data[i:i+block_size] for i in ix])\n",
    "    y = torch.stack([data[i+1:i+block_size+1] for i in ix])\n",
    "    return x, y\n",
    "\n",
    "xb, yb = get_batch('train')\n",
    "print('inputs:')\n",
    "print(xb.shape)\n",
    "print(xb)\n",
    "print('targets:')\n",
    "print(yb.shape)\n",
    "print(yb)\n",
    "\n",
    "print('----')\n",
    "\n",
    "# for b in range(batch_size): # batch dimension\n",
    "#     for t in range(block_size): # time dimension\n",
    "#         context = xb[b, :t+1]\n",
    "#         target = yb[b,t]\n",
    "#         print(f\"when input is {context.tolist()} the target: {target}\")"
   ]
  },
  {
   "cell_type": "code",
   "execution_count": 34,
   "metadata": {},
   "outputs": [
    {
     "name": "stdout",
     "output_type": "stream",
     "text": [
      "torch.Size([1, 1, 1000])\n"
     ]
    }
   ],
   "source": [
    "def tensor_to_one_hot(input_tensor, num_classes=1000):\n",
    "    \"\"\"\n",
    "    One hot encode all the data in a batch\n",
    "    \"\"\"\n",
    "    batch_size, seq_len = input_tensor.shape\n",
    "\n",
    "    # Create a zero tensor of shape (batch_size, seq_len, num_classes)\n",
    "    one_hot_tensor = torch.zeros((batch_size, seq_len, num_classes), dtype=torch.float32)\n",
    "\n",
    "    # Fill the one-hot tensor\n",
    "    for i in range(batch_size):\n",
    "        for j in range(seq_len):\n",
    "            one_hot_tensor[i, j, input_tensor[i, j]] = 1\n",
    "\n",
    "    return one_hot_tensor\n",
    "\n",
    "# Example usage\n",
    "input_tensor = torch.tensor([[24, 43, 58,  5, 57,  1, 46, 43],\n",
    "                              [44, 53, 56,  1, 58, 46, 39, 58],\n",
    "                              [52, 58,  1, 58, 46, 39, 58,  1],\n",
    "                              [25, 17, 27, 10,  0, 21,  1, 54]])\n",
    "\n",
    "one_hot_encoded_tensor = tensor_to_one_hot(torch.zeros((1, 1), dtype=torch.long))\n",
    "print(one_hot_encoded_tensor.shape)"
   ]
  },
  {
   "cell_type": "code",
   "execution_count": 12,
   "metadata": {},
   "outputs": [
    {
     "data": {
      "text/plain": [
       "torch.float32"
      ]
     },
     "execution_count": 12,
     "metadata": {},
     "output_type": "execute_result"
    }
   ],
   "source": [
    "one_hot_encoded_tensor.dtype    "
   ]
  },
  {
   "cell_type": "markdown",
   "metadata": {},
   "source": [
    "---\n",
    "Trainable output layer\n",
    "\n",
    "---"
   ]
  },
  {
   "cell_type": "code",
   "execution_count": 33,
   "metadata": {},
   "outputs": [
    {
     "name": "stdout",
     "output_type": "stream",
     "text": [
      "0\n"
     ]
    }
   ],
   "source": [
    "for i in range(1):\n",
    "    print(i)"
   ]
  },
  {
   "cell_type": "code",
   "execution_count": 72,
   "metadata": {},
   "outputs": [],
   "source": [
    "import torch\n",
    "import torch.nn as nn\n",
    "from torch.nn import functional as F\n",
    "import torch.optim as optim\n",
    "\n",
    "class SingleLayerNN(nn.Module):\n",
    "    def __init__(self, input_size=1000, hidden_size=500 ,output_size=65):\n",
    "        super(SingleLayerNN, self).__init__()\n",
    "        self.linear1 = nn.Linear(input_size, hidden_size)\n",
    "        self.linear2 = nn.Linear(hidden_size, output_size)\n",
    "        self.tanh = nn.Tanh()  # Define the ReLU activation function\n",
    "    \n",
    "    def reservoir_forward(self, input, targets=None):\n",
    "\n",
    "\n",
    "        xb_hot = tensor_to_one_hot(input)\n",
    "        B, T, C = xb_hot.shape\n",
    "        output = torch.zeros(B, T, 65)\n",
    "\n",
    "        if T > 1:\n",
    "            for b in range(T - 1):\n",
    "                xb_hot[:, b, :] = torch.atan(xb_hot[:, b, :] @ W_res)\n",
    "                xb_hot[:, b + 1, :] += xb_hot[:, b, :]\n",
    "            xb_hot[:, T - 1, :] = torch.atan(xb_hot[:, T - 2, :] @ W_res)\n",
    "        else:\n",
    "            xb_hot[:, 0, :] = torch.atan(xb_hot[:, 0, :] @ W_res)\n",
    "\n",
    "        output, loss = self(xb_hot, targets)\n",
    "\n",
    "        return output, loss\n",
    "\n",
    "    def forward(self, x, targets=None):\n",
    "        \n",
    "        x = self.linear1(x) # (B, T, C)\n",
    "        \n",
    "        x = self.tanh(x)\n",
    "\n",
    "        output = self.linear2(x)\n",
    "\n",
    "\n",
    "        if targets == None:\n",
    "            loss = None\n",
    "        else:\n",
    "            B, T, C = output.shape\n",
    "            output = output.view(B*T, C) \n",
    "            targets = targets.view(B*T)\n",
    "            loss = F.cross_entropy(output, targets)\n",
    "\n",
    "        return output, loss\n",
    "    \n",
    "    def generate(self, idx, max_new_tokens):\n",
    "        # idx is (B, T) array of indices in the current context\n",
    "        for _ in range(max_new_tokens):\n",
    "            # get the predictions\n",
    "            logits, loss = self.reservoir_forward(idx)\n",
    "            # focus only on the last time step\n",
    "            logits = logits[:, -1, :] # becomes (B, C)\n",
    "            # apply softmax to get probabilities\n",
    "            probs = F.softmax(logits, dim=-1) # (B, C)\n",
    "            # sample from the distribution\n",
    "            idx_next = torch.multinomial(probs, num_samples=1) # (B, 1)\n",
    "            # append sampled index to the running sequence\n",
    "            idx = torch.cat((idx, idx_next), dim=1) # (B, T+1)\n",
    "        return idx\n"
   ]
  },
  {
   "cell_type": "code",
   "execution_count": null,
   "metadata": {},
   "outputs": [
    {
     "name": "stdout",
     "output_type": "stream",
     "text": [
      "\n",
      "Qoi ,oCS::$N&QELCjInhtPq3\n",
      "wFh :lhrs y r ohe SoA3;dmpchf&&tFix 3a:ou th\n",
      "-GYjvXzz&NzVZ$&&tcTHczMWiP   \n"
     ]
    }
   ],
   "source": [
    "model = SingleLayerNN(input_size=1000, output_size=65)\n",
    "\n",
    "output, loss = model.reservoir_forward(xb, yb)\n",
    "print(output.shape)\n",
    "print(loss)\n",
    "\n",
    "print(decode(model.generate(idx = torch.zeros((1, 1), dtype=torch.long), max_new_tokens=100)[0].tolist()))\n",
    "\n"
   ]
  },
  {
   "cell_type": "code",
   "execution_count": 74,
   "metadata": {},
   "outputs": [],
   "source": [
    "optimizer = torch.optim.AdamW(model.parameters(), lr=1e-3)"
   ]
  },
  {
   "cell_type": "code",
   "execution_count": 77,
   "metadata": {},
   "outputs": [
    {
     "name": "stdout",
     "output_type": "stream",
     "text": [
      "Step 1, Loss: 3.3494679927825928\n",
      "Step 2, Loss: 3.3125882148742676\n",
      "Step 3, Loss: 3.286856174468994\n",
      "Step 4, Loss: 3.288147211074829\n",
      "Step 5, Loss: 3.2898964881896973\n",
      "Step 6, Loss: 3.253420352935791\n",
      "Step 7, Loss: 3.2439661026000977\n",
      "Step 8, Loss: 3.206176280975342\n",
      "Step 9, Loss: 3.2290234565734863\n",
      "Step 10, Loss: 3.2002644538879395\n",
      "Step 11, Loss: 3.2063839435577393\n",
      "Step 12, Loss: 3.1835103034973145\n",
      "Step 13, Loss: 3.170147657394409\n",
      "Step 14, Loss: 3.165544033050537\n",
      "Step 15, Loss: 3.172968864440918\n",
      "Step 16, Loss: 3.144824504852295\n",
      "Step 17, Loss: 3.139061689376831\n",
      "Step 18, Loss: 3.1160006523132324\n",
      "Step 19, Loss: 3.126894235610962\n",
      "Step 20, Loss: 3.1221017837524414\n",
      "Step 21, Loss: 3.089850425720215\n",
      "Step 22, Loss: 3.0910699367523193\n",
      "Step 23, Loss: 3.0898454189300537\n",
      "Step 24, Loss: 3.08905291557312\n",
      "Step 25, Loss: 3.0830790996551514\n",
      "Step 26, Loss: 3.080611228942871\n",
      "Step 27, Loss: 3.084428548812866\n",
      "Step 28, Loss: 3.0715949535369873\n",
      "Step 29, Loss: 3.0776400566101074\n",
      "Step 30, Loss: 3.053234577178955\n",
      "Step 31, Loss: 3.0537033081054688\n",
      "Step 32, Loss: 3.045381546020508\n",
      "Step 33, Loss: 3.0402004718780518\n",
      "Step 34, Loss: 3.036600351333618\n",
      "Step 35, Loss: 3.018049478530884\n",
      "Step 36, Loss: 3.0335044860839844\n",
      "Step 37, Loss: 3.0232574939727783\n",
      "Step 38, Loss: 3.0210845470428467\n",
      "Step 39, Loss: 3.0191309452056885\n",
      "Step 40, Loss: 3.022310972213745\n",
      "Step 41, Loss: 3.000457286834717\n",
      "Step 42, Loss: 3.0008468627929688\n",
      "Step 43, Loss: 3.0027129650115967\n",
      "Step 44, Loss: 2.993352174758911\n",
      "Step 45, Loss: 2.985053777694702\n",
      "Step 46, Loss: 2.989166736602783\n",
      "Step 47, Loss: 2.9837193489074707\n",
      "Step 48, Loss: 2.978839635848999\n",
      "Step 49, Loss: 2.992433786392212\n",
      "Step 50, Loss: 2.9761359691619873\n",
      "Step 51, Loss: 2.9787614345550537\n",
      "Step 52, Loss: 2.9734597206115723\n",
      "Step 53, Loss: 2.978450059890747\n",
      "Step 54, Loss: 2.96866512298584\n",
      "Step 55, Loss: 2.956685781478882\n",
      "Step 56, Loss: 2.953596591949463\n",
      "Step 57, Loss: 2.953925609588623\n",
      "Step 58, Loss: 2.958646059036255\n",
      "Step 59, Loss: 2.962705135345459\n",
      "Step 60, Loss: 2.9538660049438477\n",
      "Step 61, Loss: 2.941199541091919\n",
      "Step 62, Loss: 2.9491984844207764\n",
      "Step 63, Loss: 2.9533462524414062\n",
      "Step 64, Loss: 2.9527456760406494\n",
      "Step 65, Loss: 2.945033550262451\n",
      "Step 66, Loss: 2.937627077102661\n",
      "Step 67, Loss: 2.9462647438049316\n",
      "Step 68, Loss: 2.911945343017578\n",
      "Step 69, Loss: 2.9144511222839355\n",
      "Step 70, Loss: 2.9292447566986084\n",
      "Step 71, Loss: 2.924994468688965\n",
      "Step 72, Loss: 2.921571969985962\n",
      "Step 73, Loss: 2.9052255153656006\n",
      "Step 74, Loss: 2.9158167839050293\n",
      "Step 75, Loss: 2.9102492332458496\n",
      "Step 76, Loss: 2.9023263454437256\n",
      "Step 77, Loss: 2.9114158153533936\n",
      "Step 78, Loss: 2.9019405841827393\n",
      "Step 79, Loss: 2.891712188720703\n",
      "Step 80, Loss: 2.898653030395508\n",
      "Step 81, Loss: 2.894927740097046\n",
      "Step 82, Loss: 2.8923776149749756\n",
      "Step 83, Loss: 2.8992741107940674\n",
      "Step 84, Loss: 2.8734800815582275\n",
      "Step 85, Loss: 2.892305850982666\n",
      "Step 86, Loss: 2.8996024131774902\n",
      "Step 87, Loss: 2.8933796882629395\n",
      "Step 88, Loss: 2.891289710998535\n",
      "Step 89, Loss: 2.899881362915039\n",
      "Step 90, Loss: 2.89461350440979\n",
      "Step 91, Loss: 2.8745830059051514\n",
      "Step 92, Loss: 2.8841848373413086\n",
      "Step 93, Loss: 2.8776276111602783\n",
      "Step 94, Loss: 2.879767656326294\n",
      "Step 95, Loss: 2.895052671432495\n",
      "Step 96, Loss: 2.8739843368530273\n",
      "Step 97, Loss: 2.8744311332702637\n",
      "Step 98, Loss: 2.8690929412841797\n",
      "Step 99, Loss: 2.871591329574585\n",
      "Step 100, Loss: 2.8682668209075928\n"
     ]
    },
    {
     "data": {
      "image/png": "[encoded data removed]",
      "text/plain": [
       "<Figure size 1000x600 with 1 Axes>"
      ]
     },
     "metadata": {},
     "output_type": "display_data"
    }
   ],
   "source": [
    "import matplotlib.pyplot as plt\n",
    "\n",
    "# Initialize a list to store the loss values\n",
    "loss_values = []\n",
    "\n",
    "batch_size = 4096\n",
    "for steps in range(100):  # Increase the number of steps for good results...\n",
    "\n",
    "    # Sample a batch of data\n",
    "    xb, yb = get_batch('train')\n",
    "\n",
    "    # Evaluate the loss\n",
    "    logits, loss = model.reservoir_forward(xb, yb)\n",
    "    optimizer.zero_grad(set_to_none=True)\n",
    "    loss.backward()\n",
    "    optimizer.step()\n",
    "\n",
    "    # Append the loss value to the list\n",
    "    loss_values.append(loss.item())\n",
    "\n",
    "    # Print the loss value\n",
    "    print(f\"Step {steps + 1}, Loss: {loss.item()}\")\n",
    "\n",
    "# Plot the loss values\n",
    "plt.figure(figsize=(10, 6))\n",
    "plt.plot(loss_values, label='Training Loss')\n",
    "plt.xlabel('Steps')\n",
    "plt.ylabel('Loss')\n",
    "plt.title('Training Loss Over Steps')\n",
    "plt.legend()\n",
    "plt.show()"
   ]
  },
  {
   "cell_type": "code",
   "execution_count": 71,
   "metadata": {},
   "outputs": [
    {
     "data": {
      "image/png": "[encoded data removed]",
      "text/plain": [
       "<Figure size 1000x600 with 1 Axes>"
      ]
     },
     "metadata": {},
     "output_type": "display_data"
    }
   ],
   "source": [
    "# Calculate the moving average of the loss values\n",
    "window_size = 100  # You can adjust the window size for smoother/rougher averaging\n",
    "moving_avg_loss = np.convolve(loss_values, np.ones(window_size)/window_size, mode='valid')\n",
    "\n",
    "# Plot the moving average of the loss values\n",
    "plt.figure(figsize=(10, 6))\n",
    "plt.plot(moving_avg_loss, label='Moving Average Training Loss')\n",
    "plt.xlabel('Steps')\n",
    "plt.ylabel('Loss')\n",
    "plt.title('Moving Average Training Loss Over Steps')\n",
    "plt.legend()\n",
    "plt.show()"
   ]
  },
  {
   "cell_type": "code",
   "execution_count": null,
   "metadata": {},
   "outputs": [],
   "source": [
    "NEED TO TRY SMALLER LEARNING RATE WITH OLD MODEL"
   ]
  },
  {
   "cell_type": "markdown",
   "metadata": {},
   "source": [
    "---\n",
    "PASS\n",
    "\n",
    "---"
   ]
  },
  {
   "cell_type": "code",
   "execution_count": null,
   "metadata": {},
   "outputs": [],
   "source": [
    "\"\"\"\n",
    "    \n",
    "\"\"\""
   ]
  }
 ],
 "metadata": {
  "kernelspec": {
   "display_name": ".venv",
   "language": "python",
   "name": "python3"
  },
  "language_info": {
   "codemirror_mode": {
    "name": "ipython",
    "version": 3
   },
   "file_extension": ".py",
   "mimetype": "text/x-python",
   "name": "python",
   "nbconvert_exporter": "python",
   "pygments_lexer": "ipython3",
   "version": "3.11.2"
  }
 },
 "nbformat": 4,
 "nbformat_minor": 2
}
