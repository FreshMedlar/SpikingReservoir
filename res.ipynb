{
 "cells": [
  {
   "cell_type": "code",
   "execution_count": 9,
   "metadata": {},
   "outputs": [],
   "source": [
    "# read it in to inspect it\n",
    "with open('tinyshakespeare.txt', 'r', encoding='utf-8') as f:\n",
    "    text = f.read()"
   ]
  },
  {
   "cell_type": "code",
   "execution_count": 10,
   "metadata": {},
   "outputs": [
    {
     "name": "stdout",
     "output_type": "stream",
     "text": [
      "length of dataset in characters:  1115394\n",
      "\n",
      " !$&',-.3:;?ABCDEFGHIJKLMNOPQRSTUVWXYZabcdefghijklmnopqrstuvwxyz\n",
      "65\n",
      " \n"
     ]
    }
   ],
   "source": [
    "print(\"length of dataset in characters: \", len(text))\n",
    "# here are all the unique characters that occur in this text\n",
    "chars = sorted(list(set(text)))\n",
    "vocab_size = len(chars)\n",
    "print(''.join(chars))\n",
    "print(vocab_size)\n",
    "print(chars[1])"
   ]
  },
  {
   "cell_type": "code",
   "execution_count": 11,
   "metadata": {},
   "outputs": [
    {
     "name": "stdout",
     "output_type": "stream",
     "text": [
      "[46, 47, 47, 1, 58, 46, 43, 56, 43]\n",
      "hii there\n"
     ]
    }
   ],
   "source": [
    "# create a mapping from characters to integers\n",
    "stoi = { ch:i for i,ch in enumerate(chars) }\n",
    "itos = { i:ch for i,ch in enumerate(chars) }\n",
    "encode = lambda s: [stoi[c] for c in s] # encoder: take a string, output a list of integers\n",
    "decode = lambda l: ''.join([itos[i] for i in l]) # decoder: take a list of integers, output a string\n",
    "\n",
    "print(encode(\"hii there\"))\n",
    "print(decode(encode(\"hii there\")))"
   ]
  },
  {
   "cell_type": "code",
   "execution_count": 12,
   "metadata": {},
   "outputs": [
    {
     "name": "stdout",
     "output_type": "stream",
     "text": [
      "torch.Size([1115394]) torch.int64\n"
     ]
    }
   ],
   "source": [
    "# let's now encode the entire text dataset and store it into a torch.Tensor\n",
    "import torch # we use PyTorch: https://pytorch.org\n",
    "data = torch.tensor(encode(text), dtype=torch.long)\n",
    "print(data.shape, data.dtype)"
   ]
  },
  {
   "cell_type": "code",
   "execution_count": 13,
   "metadata": {},
   "outputs": [],
   "source": [
    "# Let's now split up the data into train and validation sets\n",
    "n = int(0.9*len(data)) # first 90% will be train, rest val\n",
    "train_data = data[:n]\n",
    "val_data = data[n:]"
   ]
  },
  {
   "cell_type": "markdown",
   "metadata": {},
   "source": [
    "---\n",
    "We now need to make characters into spike trains\n",
    "\n",
    "---"
   ]
  },
  {
   "cell_type": "code",
   "execution_count": null,
   "metadata": {},
   "outputs": [],
   "source": [
    "import numpy as np\n",
    "\n",
    "def generate_spike_trains(input_data, U_max, U_min, N_sample):\n",
    "    \"\"\"\n",
    "    Generate spike trains using Poisson encoding.\n",
    "    \n",
    "    Parameters:\n",
    "        input_data (numpy.ndarray): Normalized input data (e.g., between U_min and U_max).\n",
    "        U_max (float): Maximum value of the input range.\n",
    "        U_min (float): Minimum value of the input range.\n",
    "        N_sample (int): Number of spike samples.\n",
    "    \n",
    "    Returns:\n",
    "        spike_trains (numpy.ndarray): Generated spike trains (0s and 1s).\n",
    "    \"\"\"\n",
    "    # Calculate average spike interval\n",
    "    h_k = N_sample * (U_max - input_data) / (U_max - U_min)\n",
    "    \n",
    "    # Generate intervals using Poisson distribution\n",
    "    intervals = np.random.poisson(h_k)\n",
    "    \n",
    "    # Generate spike trains\n",
    "    spike_trains = np.zeros((len(input_data), N_sample))\n",
    "    for i, interval in enumerate(intervals):\n",
    "        spike_indices = np.cumsum(np.random.choice(np.arange(1, N_sample + 1), interval, replace=False))\n",
    "        spike_indices = spike_indices[spike_indices < N_sample]\n",
    "        spike_trains[i, spike_indices] = 111\n",
    "    \n",
    "    return spike_trains\n",
    "\n",
    "\n",
    "# Example input data\n",
    "input_data = np.array([0.1, 0.4, 0.7, 0.9])  # Normalized input\n",
    "U_max = 1.0\n",
    "U_min = 0.0\n",
    "N_sample = 100  # Spike sampling times\n",
    "\n",
    "# Generate spike trains\n",
    "spikes = generate_spike_trains(input_data, U_max, U_min, N_sample)\n",
    "print(\"Generated Spike Trains:\")\n",
    "print(spikes)\n"
   ]
  },
  {
   "cell_type": "code",
   "execution_count": 1,
   "metadata": {},
   "outputs": [],
   "source": [
    "# SIMPLEST ENCODING\n",
    "# each character activate 1 neuron, fixed\n",
    "\n",
    "def char_to_spike_train(char):\n",
    "    \"\"\"\n",
    "    One hot encoding of a character\n",
    "    \n",
    "    Parameters: \n",
    "        char (string): the character to encode\n",
    "    \n",
    "    Returns:\n",
    "        np.array of dimensions (N_sam, 65)   \n",
    "    \"\"\"\n",
    "    N_sam = 10\n",
    "    spikes = np.zeros((N_sam, 65))\n",
    "    for i in range(N_sam):\n",
    "        spikes[i, encode(char)] = 1\n",
    "\n",
    "    return spikes\n",
    "\n",
    "# print(char_to_spike_train(\"\\n\"))"
   ]
  },
  {
   "cell_type": "markdown",
   "metadata": {},
   "source": [
    "---\n",
    "Create the reservoire\n",
    "\n",
    "N_res is the number of neurons in the reservoir\n",
    "\n",
    "---"
   ]
  },
  {
   "cell_type": "code",
   "execution_count": 11,
   "metadata": {},
   "outputs": [],
   "source": [
    "import numpy as np\n",
    "from scipy.sparse import random\n",
    "from scipy.sparse.linalg import eigs  # For sparse eigenvalue computation\n",
    "\n",
    "# Parameters\n",
    "N_res = 1000  # Size of the reservoir (N_res x N_res)\n",
    "eta = 0.1    # Sparsity degree (10% non-zero entries)\n",
    "\n",
    "def uniform_rvs(size):\n",
    "    return np.random.uniform(low=-1.0, high=1.0, size=size)\n",
    "# Generate a sparse matrix with uniform random values in [-1, 1]\n",
    "W = random(N_res, N_res, density=eta, format='csr', data_rvs=uniform_rvs)\n",
    "\n",
    "# Convert to a dense matrix (optional, for visualization or further processing)\n",
    "W_dense = W.toarray()\n",
    "\n",
    "#Calculate the max eigenvalue and find the max\n",
    "max_eigenvalue = eigs(W, k=1, which='LM', return_eigenvectors=False)[0].real\n",
    "\n",
    "# Normalize W to get W_res\n",
    "rho = 0.9\n",
    "W_res = rho * (W / max_eigenvalue)"
   ]
  },
  {
   "cell_type": "code",
   "execution_count": null,
   "metadata": {},
   "outputs": [],
   "source": []
  }
 ],
 "metadata": {
  "kernelspec": {
   "display_name": ".venv",
   "language": "python",
   "name": "python3"
  },
  "language_info": {
   "codemirror_mode": {
    "name": "ipython",
    "version": 3
   },
   "file_extension": ".py",
   "mimetype": "text/x-python",
   "name": "python",
   "nbconvert_exporter": "python",
   "pygments_lexer": "ipython3",
   "version": "3.11.2"
  }
 },
 "nbformat": 4,
 "nbformat_minor": 2
}
