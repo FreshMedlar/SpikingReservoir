{
 "cells": [
  {
   "cell_type": "markdown",
   "metadata": {},
   "source": [
    "---\n",
    "FIRST\n",
    "\n",
    "---"
   ]
  },
  {
   "cell_type": "code",
   "execution_count": 33,
   "metadata": {},
   "outputs": [],
   "source": [
    "# read it in to inspect it\n",
    "with open('tinyshakespeare.txt', 'r', encoding='utf-8') as f:\n",
    "    text = f.read()"
   ]
  },
  {
   "cell_type": "code",
   "execution_count": 34,
   "metadata": {},
   "outputs": [
    {
     "name": "stdout",
     "output_type": "stream",
     "text": [
      "length of dataset in characters:  1115394\n",
      "\n",
      " !$&',-.3:;?ABCDEFGHIJKLMNOPQRSTUVWXYZabcdefghijklmnopqrstuvwxyz\n",
      "65\n",
      " \n"
     ]
    }
   ],
   "source": [
    "print(\"length of dataset in characters: \", len(text))\n",
    "# here are all the unique characters that occur in this text\n",
    "chars = sorted(list(set(text)))\n",
    "vocab_size = len(chars)\n",
    "print(''.join(chars))\n",
    "print(vocab_size)\n",
    "print(chars[1])"
   ]
  },
  {
   "cell_type": "code",
   "execution_count": 35,
   "metadata": {},
   "outputs": [
    {
     "name": "stdout",
     "output_type": "stream",
     "text": [
      "[46, 47, 47, 1, 58, 46, 43, 56, 43]\n",
      "hii there\n"
     ]
    }
   ],
   "source": [
    "# create a mapping from characters to integers\n",
    "stoi = { ch:i for i,ch in enumerate(chars) }\n",
    "itos = { i:ch for i,ch in enumerate(chars) }\n",
    "encode = lambda s: [stoi[c] for c in s] # encoder: take a string, output a list of integers\n",
    "decode = lambda l: ''.join([itos[i] for i in l]) # decoder: take a list of integers, output a string\n",
    "\n",
    "print(encode(\"hii there\"))\n",
    "print(decode(encode(\"hii there\")))"
   ]
  },
  {
   "cell_type": "code",
   "execution_count": 36,
   "metadata": {},
   "outputs": [
    {
     "name": "stdout",
     "output_type": "stream",
     "text": [
      "torch.Size([1115394]) torch.int64\n"
     ]
    }
   ],
   "source": [
    "# let's now encode the entire text dataset and store it into a torch.Tensor\n",
    "import torch # we use PyTorch: https://pytorch.org\n",
    "data = torch.tensor(encode(text), dtype=torch.long)\n",
    "print(data.shape, data.dtype)"
   ]
  },
  {
   "cell_type": "code",
   "execution_count": 37,
   "metadata": {},
   "outputs": [],
   "source": [
    "# Let's now split up the data into train and validation sets\n",
    "n = int(0.9*len(data)) # first 90% will be train, rest val\n",
    "train_data = data[:n]\n",
    "val_data = data[n:]"
   ]
  },
  {
   "cell_type": "markdown",
   "metadata": {},
   "source": [
    "---\n",
    "We now need to make characters into spike trains\n",
    "\n",
    "---"
   ]
  },
  {
   "cell_type": "code",
   "execution_count": 38,
   "metadata": {},
   "outputs": [
    {
     "name": "stdout",
     "output_type": "stream",
     "text": [
      "Generated Spike Trains:\n"
     ]
    }
   ],
   "source": [
    "import numpy as np\n",
    "\n",
    "def generate_spike_trains(input_data, U_max, U_min, N_sample):\n",
    "    \"\"\"\n",
    "    Generate spike trains using Poisson encoding.\n",
    "    \n",
    "    Parameters:\n",
    "        input_data (numpy.ndarray): Normalized input data (e.g., between U_min and U_max).\n",
    "        U_max (float): Maximum value of the input range.\n",
    "        U_min (float): Minimum value of the input range.\n",
    "        N_sample (int): Number of spike samples.\n",
    "    \n",
    "    Returns:\n",
    "        spike_trains (numpy.ndarray): Generated spike trains (0s and 1s).\n",
    "    \"\"\"\n",
    "    # Calculate average spike interval\n",
    "    h_k = N_sample * (U_max - input_data) / (U_max - U_min)\n",
    "    \n",
    "    # Generate intervals using Poisson distribution\n",
    "    intervals = np.random.poisson(h_k)\n",
    "    \n",
    "    # Generate spike trains\n",
    "    spike_trains = np.zeros((len(input_data), N_sample))\n",
    "    for i, interval in enumerate(intervals):\n",
    "        spike_indices = np.cumsum(np.random.choice(np.arange(1, N_sample + 1), interval, replace=False))\n",
    "        spike_indices = spike_indices[spike_indices < N_sample]\n",
    "        spike_trains[i, spike_indices] = 111\n",
    "    \n",
    "    return spike_trains\n",
    "\n",
    "\n",
    "# Example input data\n",
    "input_data = np.array([0.1, 0.4, 0.7, 0.9])  # Normalized input\n",
    "U_max = 1.0\n",
    "U_min = 0.0\n",
    "N_sample = 100  # Spike sampling times\n",
    "\n",
    "# Generate spike trains\n",
    "spikes = generate_spike_trains(input_data, U_max, U_min, N_sample)\n",
    "print(\"Generated Spike Trains:\")\n",
    "# print(spikes)\n"
   ]
  },
  {
   "cell_type": "code",
   "execution_count": 39,
   "metadata": {},
   "outputs": [
    {
     "name": "stdout",
     "output_type": "stream",
     "text": [
      "tensor([[1., 0., 0., 0., 0., 0., 0., 0., 0., 0., 0., 0., 0., 0., 0., 0., 0., 0.,\n",
      "         0., 0., 0., 0., 0., 0., 0., 0., 0., 0., 0., 0., 0., 0., 0., 0., 0., 0.,\n",
      "         0., 0., 0., 0., 0., 0., 0., 0., 0., 0., 0., 0., 0., 0., 0., 0., 0., 0.,\n",
      "         0., 0., 0., 0., 0., 0., 0., 0., 0., 0., 0.]])\n"
     ]
    }
   ],
   "source": [
    "# SIMPLEST ENCODING\n",
    "# each character activate 1 neuron, fixed\n",
    "\n",
    "def char_to_spike(char):\n",
    "    \"\"\"\n",
    "    One hot encoding of a character\n",
    "    \n",
    "    Parameters: \n",
    "        char (string): the character to encode\n",
    "    \n",
    "    Returns:\n",
    "        np.array of dimensions (N_sam, 65)   \n",
    "    \"\"\"\n",
    "    spikes = torch.zeros((1, 65))\n",
    "    spikes[0, char] = 1\n",
    "\n",
    "    return spikes\n",
    "\n",
    "print(char_to_spike(0))"
   ]
  },
  {
   "cell_type": "markdown",
   "metadata": {},
   "source": [
    "---\n",
    "Create the reservoire\n",
    "\n",
    "N_res is the number of neurons in the reservoir\n",
    "\n",
    "---"
   ]
  },
  {
   "cell_type": "code",
   "execution_count": 97,
   "metadata": {},
   "outputs": [],
   "source": [
    "# import numpy as np\n",
    "# from scipy.sparse import random\n",
    "# from scipy.sparse.linalg import eigs  # For sparse eigenvalue computation\n",
    "\n",
    "# # Parameters\n",
    "# N_res = 3000  # Size of the reservoir (N_res x N_res)\n",
    "# eta = 0.05    # Sparsity degree (10% non-zero entries)\n",
    "\n",
    "# def uniform_rvs(size):\n",
    "#     return np.random.uniform(low=-1.0, high=1.0, size=size)\n",
    "# # Generate a sparse matrix with uniform random values in [-1, 1]\n",
    "# W = random(N_res, N_res, density=eta, format='csr', data_rvs=uniform_rvs)\n",
    "\n",
    "# # Convert to a dense matrix (optional, for visualization or further processing)\n",
    "# W_dense = W.toarray()\n",
    "\n",
    "# #Calculate the max eigenvalue and find the max\n",
    "# max_eigenvalue = eigs(W, k=1, which='LM', return_eigenvectors=False)[0].real\n",
    "\n",
    "# # Normalize W to get W_res\n",
    "# rho = 0.9\n",
    "# W_res = rho * (W / max_eigenvalue)\n",
    "# W_res = torch.from_numpy(W_dense).to(torch.float32)"
   ]
  },
  {
   "cell_type": "code",
   "execution_count": 98,
   "metadata": {},
   "outputs": [
    {
     "data": {
      "text/plain": [
       "torch.float32"
      ]
     },
     "execution_count": 98,
     "metadata": {},
     "output_type": "execute_result"
    }
   ],
   "source": [
    "W_res.dtype"
   ]
  },
  {
   "cell_type": "markdown",
   "metadata": {},
   "source": [
    "---\n",
    "BATCH EXAMPLE\n",
    "\n",
    "---"
   ]
  },
  {
   "cell_type": "code",
   "execution_count": 99,
   "metadata": {},
   "outputs": [
    {
     "name": "stdout",
     "output_type": "stream",
     "text": [
      "inputs:\n",
      "torch.Size([4, 8])\n",
      "tensor([[24, 43, 58,  5, 57,  1, 46, 43],\n",
      "        [44, 53, 56,  1, 58, 46, 39, 58],\n",
      "        [52, 58,  1, 58, 46, 39, 58,  1],\n",
      "        [25, 17, 27, 10,  0, 21,  1, 54]])\n",
      "targets:\n",
      "torch.Size([4, 8])\n",
      "tensor([[43, 58,  5, 57,  1, 46, 43, 39],\n",
      "        [53, 56,  1, 58, 46, 39, 58,  1],\n",
      "        [58,  1, 58, 46, 39, 58,  1, 46],\n",
      "        [17, 27, 10,  0, 21,  1, 54, 39]])\n",
      "----\n"
     ]
    }
   ],
   "source": [
    "torch.manual_seed(1337)\n",
    "# batch_size = 4 # how many independent sequences will we process in parallel?\n",
    "# block_size = 8 # what is the maximum context length for predictions?\n",
    "\n",
    "def get_batch(split, block_size, batch_size):\n",
    "    # generate a small batch of data of inputs x and targets y\n",
    "    data = train_data if split == 'train' else val_data\n",
    "    ix = torch.randint(len(data) - block_size, (batch_size,))\n",
    "    x = torch.stack([data[i:i+block_size] for i in ix])\n",
    "    y = torch.stack([data[i+1:i+block_size+1] for i in ix])\n",
    "    return x, y\n",
    "\n",
    "xb, yb = get_batch('train', 8, 4)\n",
    "print('inputs:')\n",
    "print(xb.shape)\n",
    "print(xb)\n",
    "print('targets:')\n",
    "print(yb.shape)\n",
    "print(yb)\n",
    "\n",
    "print('----')\n",
    "\n",
    "# for b in range(batch_size): # batch dimension\n",
    "#     for t in range(block_size): # time dimension\n",
    "#         context = xb[b, :t+1]\n",
    "#         target = yb[b,t]\n",
    "#         print(f\"when input is {context.tolist()} the target: {target}\")"
   ]
  },
  {
   "cell_type": "code",
   "execution_count": 100,
   "metadata": {},
   "outputs": [
    {
     "name": "stdout",
     "output_type": "stream",
     "text": [
      "torch.Size([1, 1, 1000])\n"
     ]
    }
   ],
   "source": [
    "def tensor_to_one_hot(input_tensor, num_classes=1000):\n",
    "    \"\"\"\n",
    "    One hot encode all the data in a batch\n",
    "    \"\"\"\n",
    "    batch_size, seq_len = input_tensor.shape\n",
    "\n",
    "    # Create a zero tensor of shape (batch_size, seq_len, num_classes)\n",
    "    one_hot_tensor = torch.zeros((batch_size, seq_len, num_classes), dtype=torch.float32)\n",
    "\n",
    "    # Fill the one-hot tensor\n",
    "    for i in range(batch_size):\n",
    "        for j in range(seq_len):\n",
    "            one_hot_tensor[i, j, input_tensor[i, j]] = 1\n",
    "\n",
    "    return one_hot_tensor\n",
    "\n",
    "# Example usage\n",
    "input_tensor = torch.tensor([[24, 43, 58,  5, 57,  1, 46, 43],\n",
    "                              [44, 53, 56,  1, 58, 46, 39, 58],\n",
    "                              [52, 58,  1, 58, 46, 39, 58,  1],\n",
    "                              [25, 17, 27, 10,  0, 21,  1, 54]])\n",
    "\n",
    "one_hot_encoded_tensor = tensor_to_one_hot(torch.zeros((1, 1), dtype=torch.long))\n",
    "print(one_hot_encoded_tensor.shape)"
   ]
  },
  {
   "cell_type": "code",
   "execution_count": 101,
   "metadata": {},
   "outputs": [
    {
     "data": {
      "text/plain": [
       "torch.float32"
      ]
     },
     "execution_count": 101,
     "metadata": {},
     "output_type": "execute_result"
    }
   ],
   "source": [
    "one_hot_encoded_tensor.dtype    "
   ]
  },
  {
   "cell_type": "markdown",
   "metadata": {},
   "source": [
    "---\n",
    "Trainable output layer\n",
    "\n",
    "---"
   ]
  },
  {
   "cell_type": "code",
   "execution_count": 125,
   "metadata": {},
   "outputs": [],
   "source": [
    "import torch\n",
    "import torch.nn as nn\n",
    "from torch.nn import functional as F\n",
    "import torch.optim as optim\n",
    "import numpy as np\n",
    "from scipy.sparse import random\n",
    "from scipy.sparse.linalg import eigs  # For sparse eigenvalue computation\n",
    "\n",
    "class SingleLayerNN(nn.Module):\n",
    "    def __init__(self, input_size=3000, hidden_size=500 ,output_size=65):\n",
    "        super(SingleLayerNN, self).__init__()\n",
    "\n",
    "        self.linear = nn.Linear(input_size, output_size)\n",
    "\n",
    "        # self.linear1 = nn.Linear(input_size, hidden_size)\n",
    "        # self.linear2 = nn.Linear(hidden_size, output_size)\n",
    "        # self.tanh = nn.Tanh()  # Define the ReLU activation function\n",
    "\n",
    "        self.create_reservoir()\n",
    "    \n",
    "    def reservoir_forward(self, input, targets=None):\n",
    "\n",
    "\n",
    "        xb_hot = tensor_to_one_hot(input, num_classes=3000)\n",
    "        B, T, C = xb_hot.shape\n",
    "        output = torch.zeros(B, T, 65)\n",
    "\n",
    "        if T > 1:\n",
    "            for b in range(T - 1):\n",
    "                xb_hot[:, b, :] = torch.atan(xb_hot[:, b, :] @ self.W_res)\n",
    "                xb_hot[:, b + 1, :] += xb_hot[:, b, :]\n",
    "            xb_hot[:, T - 1, :] = torch.atan(xb_hot[:, T - 2, :] @ self.W_res)\n",
    "        else:\n",
    "            xb_hot[:, 0, :] = torch.atan(xb_hot[:, 0, :] @ self.W_res)\n",
    "\n",
    "        output, loss = self(xb_hot, targets)\n",
    "\n",
    "        return output, loss\n",
    "\n",
    "    def forward(self, x, targets=None):\n",
    "        # # Shift xb_hot to get the previous inputs\n",
    "        # prev_xb_hot = torch.zeros_like(x)  # Create a zero tensor with the same shape\n",
    "        # prev_xb_hot[:, 1:, :] = x[:, :-1, :]  # Shift xb_hot to the right (first step has no previous data)\n",
    "        # xb_combined = torch.cat([prev_xb_hot[:, 1:, :], x[:, 1:, :]], dim=-1)  # (B, T-1, 2000)  # Concatenate previous and current inputs along feature dimension\n",
    "        \n",
    "\n",
    "        # x = self.linear1(x) # (B, T, C)\n",
    "        # x = self.tanh(x)\n",
    "        # output = self.linear2(x)\n",
    "        \n",
    "        output = self.linear(x)\n",
    "\n",
    "\n",
    "        # print(output.shape)\n",
    "\n",
    "\n",
    "        if targets == None:\n",
    "            loss = None\n",
    "        else:\n",
    "            B, T, C = output.shape\n",
    "            output = output.view(B*T, C) \n",
    "            targets = targets.view(B*T)\n",
    "            loss = F.cross_entropy(output, targets)\n",
    "\n",
    "        return output, loss\n",
    "    \n",
    "    def create_reservoir(self, N_res=3000, eta=0.05):\n",
    "        def uniform_rvs(size):\n",
    "            return np.random.uniform(low=-1.0, high=1.0, size=size)\n",
    "        # Generate a sparse matrix with uniform random values in [-1, 1]\n",
    "        W = random(N_res, N_res, density=eta, format='csr', data_rvs=uniform_rvs)\n",
    "\n",
    "        # Convert to a dense matrix (optional, for visualization or further processing)\n",
    "        W_dense = W.toarray()\n",
    "\n",
    "        #Calculate the max eigenvalue and find the max\n",
    "        max_eigenvalue = eigs(W, k=1, which='LM', return_eigenvectors=False)[0].real\n",
    "\n",
    "        # Normalize W to get W_res\n",
    "        rho = 0.9\n",
    "        W_res = rho * (W / max_eigenvalue)\n",
    "        W_res = torch.from_numpy(W_dense)\n",
    "        W_res = W_res.to(torch.float32)\n",
    "        self.W_res = W_res\n",
    "        return None\n",
    "    \n",
    "    def generate(self, idx, max_new_tokens):\n",
    "        # idx is (B, T) array of indices in the current context\n",
    "        for _ in range(max_new_tokens):\n",
    "            # get the predictions\n",
    "            logits, loss = self.reservoir_forward(idx)\n",
    "            # focus only on the last time step\n",
    "            logits = logits[:, -1, :] # becomes (B, C)\n",
    "            # apply softmax to get probabilities\n",
    "            probs = F.softmax(logits, dim=-1) # (B, C)\n",
    "            # sample from the distribution\n",
    "            idx_next = torch.multinomial(probs, num_samples=1) # (B, 1)\n",
    "            # append sampled index to the running sequence\n",
    "            idx = torch.cat((idx, idx_next), dim=1) # (B, T+1)\n",
    "        return idx\n"
   ]
  },
  {
   "cell_type": "code",
   "execution_count": null,
   "metadata": {},
   "outputs": [
    {
     "name": "stdout",
     "output_type": "stream",
     "text": [
      "torch.Size([2048, 65])\n",
      "tensor(4.4694, grad_fn=<NllLossBackward0>)\n",
      "\n",
      " yrEnlR;dRtNwGLJD.,?d $O: IsRKJ?CsgAxUEAPbt-ahdy'uyxr.&La;YYBuyNpXch TwksyGhE:fIjExHML.WLOlkt$gFEdx:\n"
     ]
    }
   ],
   "source": [
    "model = SingleLayerNN(input_size=3000, output_size=65)\n",
    "\n",
    "output, loss = model.reservoir_forward(xb, yb)\n",
    "print(output.shape)\n",
    "print(loss)\n"
   ]
  },
  {
   "cell_type": "code",
   "execution_count": 127,
   "metadata": {},
   "outputs": [],
   "source": [
    "optimizer = torch.optim.AdamW(model.parameters(), lr=3e-4)"
   ]
  },
  {
   "cell_type": "code",
   "execution_count": 110,
   "metadata": {},
   "outputs": [
    {
     "name": "stdout",
     "output_type": "stream",
     "text": [
      "\n",
      "c;sj,Okx xHvV;LOXwOscc iUsQbbf;fDnG:cBHc'JgvcHmuFoCmFv!M:!oMZhdG J,$;Kv:SttaIsR!\n",
      "pm3bLrLKAxFvl,ywrrD\n"
     ]
    }
   ],
   "source": [
    "print(decode(model.generate(idx = torch.zeros((1, 1), dtype=torch.long), max_new_tokens=100)[0].tolist()))"
   ]
  },
  {
   "cell_type": "code",
   "execution_count": 128,
   "metadata": {},
   "outputs": [
    {
     "name": "stdout",
     "output_type": "stream",
     "text": [
      "Step 1, Loss: 4.463513374328613\n",
      "Step 2, Loss: 4.432259559631348\n",
      "Step 3, Loss: 4.465173244476318\n",
      "Step 4, Loss: 4.456849098205566\n",
      "Step 5, Loss: 4.444354057312012\n",
      "Step 6, Loss: 4.412414073944092\n",
      "Step 7, Loss: 4.4022064208984375\n",
      "Step 8, Loss: 4.402004718780518\n",
      "Step 9, Loss: 4.442938327789307\n",
      "Step 10, Loss: 4.394021034240723\n",
      "Step 11, Loss: 4.40790319442749\n",
      "Step 12, Loss: 4.393897533416748\n",
      "Step 13, Loss: 4.386743068695068\n",
      "Step 14, Loss: 4.396303176879883\n",
      "Step 15, Loss: 4.413562774658203\n",
      "Step 16, Loss: 4.371228218078613\n",
      "Step 17, Loss: 4.369266033172607\n",
      "Step 18, Loss: 4.385554313659668\n",
      "Step 19, Loss: 4.3485541343688965\n",
      "Step 20, Loss: 4.358408451080322\n",
      "Step 21, Loss: 4.357601165771484\n",
      "Step 22, Loss: 4.369607925415039\n",
      "Step 23, Loss: 4.346437931060791\n",
      "Step 24, Loss: 4.36207389831543\n",
      "Step 25, Loss: 4.35717248916626\n",
      "Step 26, Loss: 4.361576080322266\n",
      "Step 27, Loss: 4.357202529907227\n",
      "Step 28, Loss: 4.320764064788818\n",
      "Step 29, Loss: 4.305671215057373\n",
      "Step 30, Loss: 4.325666427612305\n",
      "Step 31, Loss: 4.36984920501709\n",
      "Step 32, Loss: 4.346778869628906\n",
      "Step 33, Loss: 4.305273056030273\n",
      "Step 34, Loss: 4.316562175750732\n",
      "Step 35, Loss: 4.295375823974609\n",
      "Step 36, Loss: 4.320662498474121\n",
      "Step 37, Loss: 4.323922157287598\n",
      "Step 38, Loss: 4.339930057525635\n",
      "Step 39, Loss: 4.318735599517822\n",
      "Step 40, Loss: 4.310363292694092\n",
      "Step 41, Loss: 4.306390285491943\n",
      "Step 42, Loss: 4.3062744140625\n",
      "Step 43, Loss: 4.316275596618652\n",
      "Step 44, Loss: 4.319571018218994\n",
      "Step 45, Loss: 4.298673152923584\n",
      "Step 46, Loss: 4.273808002471924\n",
      "Step 47, Loss: 4.2831268310546875\n",
      "Step 48, Loss: 4.320095539093018\n",
      "Step 49, Loss: 4.276337146759033\n",
      "Step 50, Loss: 4.287909030914307\n",
      "Step 51, Loss: 4.306364059448242\n",
      "Step 52, Loss: 4.2659220695495605\n",
      "Step 53, Loss: 4.315054893493652\n",
      "Step 54, Loss: 4.322584629058838\n",
      "Step 55, Loss: 4.281702041625977\n",
      "Step 56, Loss: 4.2582316398620605\n",
      "Step 57, Loss: 4.28256368637085\n",
      "Step 58, Loss: 4.264767169952393\n",
      "Step 59, Loss: 4.268780708312988\n",
      "Step 60, Loss: 4.273610591888428\n",
      "Step 61, Loss: 4.265224933624268\n",
      "Step 62, Loss: 4.279660224914551\n",
      "Step 63, Loss: 4.280415058135986\n",
      "Step 64, Loss: 4.296907901763916\n",
      "Step 65, Loss: 4.282934188842773\n",
      "Step 66, Loss: 4.221755504608154\n",
      "Step 67, Loss: 4.239221096038818\n",
      "Step 68, Loss: 4.2385783195495605\n",
      "Step 69, Loss: 4.255861282348633\n",
      "Step 70, Loss: 4.240353107452393\n",
      "Step 71, Loss: 4.246857643127441\n",
      "Step 72, Loss: 4.248599529266357\n",
      "Step 73, Loss: 4.234380722045898\n",
      "Step 74, Loss: 4.251134872436523\n",
      "Step 75, Loss: 4.255326747894287\n",
      "Step 76, Loss: 4.2075676918029785\n",
      "Step 77, Loss: 4.251557350158691\n",
      "Step 78, Loss: 4.251552581787109\n",
      "Step 79, Loss: 4.239018440246582\n",
      "Step 80, Loss: 4.233287334442139\n",
      "Step 81, Loss: 4.237940788269043\n"
     ]
    },
    {
     "ename": "KeyboardInterrupt",
     "evalue": "",
     "output_type": "error",
     "traceback": [
      "\u001b[0;31m---------------------------------------------------------------------------\u001b[0m",
      "\u001b[0;31mKeyboardInterrupt\u001b[0m                         Traceback (most recent call last)",
      "Cell \u001b[0;32mIn[128], line 14\u001b[0m\n\u001b[1;32m     11\u001b[0m xb, yb \u001b[38;5;241m=\u001b[39m get_batch(\u001b[38;5;124m'\u001b[39m\u001b[38;5;124mtrain\u001b[39m\u001b[38;5;124m'\u001b[39m, block_size, batch_size)\n\u001b[1;32m     13\u001b[0m \u001b[38;5;66;03m# Evaluate the loss\u001b[39;00m\n\u001b[0;32m---> 14\u001b[0m logits, loss \u001b[38;5;241m=\u001b[39m \u001b[43mmodel\u001b[49m\u001b[38;5;241;43m.\u001b[39;49m\u001b[43mreservoir_forward\u001b[49m\u001b[43m(\u001b[49m\u001b[43mxb\u001b[49m\u001b[43m,\u001b[49m\u001b[43m \u001b[49m\u001b[43myb\u001b[49m\u001b[43m)\u001b[49m\n\u001b[1;32m     15\u001b[0m optimizer\u001b[38;5;241m.\u001b[39mzero_grad(set_to_none\u001b[38;5;241m=\u001b[39m\u001b[38;5;28;01mTrue\u001b[39;00m)\n\u001b[1;32m     16\u001b[0m loss\u001b[38;5;241m.\u001b[39mbackward()\n",
      "Cell \u001b[0;32mIn[125], line 30\u001b[0m, in \u001b[0;36mSingleLayerNN.reservoir_forward\u001b[0;34m(self, input, targets)\u001b[0m\n\u001b[1;32m     28\u001b[0m \u001b[38;5;28;01mif\u001b[39;00m T \u001b[38;5;241m>\u001b[39m \u001b[38;5;241m1\u001b[39m:\n\u001b[1;32m     29\u001b[0m     \u001b[38;5;28;01mfor\u001b[39;00m b \u001b[38;5;129;01min\u001b[39;00m \u001b[38;5;28mrange\u001b[39m(T \u001b[38;5;241m-\u001b[39m \u001b[38;5;241m1\u001b[39m):\n\u001b[0;32m---> 30\u001b[0m         xb_hot[:, b, :] \u001b[38;5;241m=\u001b[39m \u001b[43mtorch\u001b[49m\u001b[38;5;241;43m.\u001b[39;49m\u001b[43matan\u001b[49m\u001b[43m(\u001b[49m\u001b[43mxb_hot\u001b[49m\u001b[43m[\u001b[49m\u001b[43m:\u001b[49m\u001b[43m,\u001b[49m\u001b[43m \u001b[49m\u001b[43mb\u001b[49m\u001b[43m,\u001b[49m\u001b[43m \u001b[49m\u001b[43m:\u001b[49m\u001b[43m]\u001b[49m\u001b[43m \u001b[49m\u001b[38;5;241;43m@\u001b[39;49m\u001b[43m \u001b[49m\u001b[38;5;28;43mself\u001b[39;49m\u001b[38;5;241;43m.\u001b[39;49m\u001b[43mW_res\u001b[49m\u001b[43m)\u001b[49m\n\u001b[1;32m     31\u001b[0m         xb_hot[:, b \u001b[38;5;241m+\u001b[39m \u001b[38;5;241m1\u001b[39m, :] \u001b[38;5;241m+\u001b[39m\u001b[38;5;241m=\u001b[39m xb_hot[:, b, :]\n\u001b[1;32m     32\u001b[0m     xb_hot[:, T \u001b[38;5;241m-\u001b[39m \u001b[38;5;241m1\u001b[39m, :] \u001b[38;5;241m=\u001b[39m torch\u001b[38;5;241m.\u001b[39matan(xb_hot[:, T \u001b[38;5;241m-\u001b[39m \u001b[38;5;241m2\u001b[39m, :] \u001b[38;5;241m@\u001b[39m \u001b[38;5;28mself\u001b[39m\u001b[38;5;241m.\u001b[39mW_res)\n",
      "\u001b[0;31mKeyboardInterrupt\u001b[0m: "
     ]
    }
   ],
   "source": [
    "import matplotlib.pyplot as plt\n",
    "\n",
    "# Initialize a list to store the loss values\n",
    "loss_values = []\n",
    "\n",
    "batch_size = 4\n",
    "block_size = 512\n",
    "for steps in range(100):  # Increase the number of steps for good results...\n",
    "\n",
    "    # Sample a batch of data\n",
    "    xb, yb = get_batch('train', block_size, batch_size)\n",
    "\n",
    "    # Evaluate the loss\n",
    "    logits, loss = model.reservoir_forward(xb, yb)\n",
    "    optimizer.zero_grad(set_to_none=True)\n",
    "    loss.backward()\n",
    "    optimizer.step()\n",
    "\n",
    "    # Append the loss value to the list\n",
    "    loss_values.append(loss.item())\n",
    "\n",
    "    # Print the loss value\n",
    "    print(f\"Step {steps + 1}, Loss: {loss.item()}\")\n",
    "\n",
    "# Plot the loss values\n",
    "plt.figure(figsize=(10, 6))\n",
    "plt.plot(loss_values, label='Training Loss')\n",
    "plt.xlabel('Steps')\n",
    "plt.ylabel('Loss')\n",
    "plt.title('Training Loss Over Steps')\n",
    "plt.legend()\n",
    "plt.show()"
   ]
  },
  {
   "cell_type": "code",
   "execution_count": null,
   "metadata": {},
   "outputs": [],
   "source": [
    "# Calculate the moving average of the loss values\n",
    "window_size = 10  # You can adjust the window size for smoother/rougher averaging\n",
    "moving_avg_loss = np.convolve(loss_values, np.ones(window_size)/window_size, mode='valid')\n",
    "\n",
    "# Plot the moving average of the loss values\n",
    "plt.figure(figsize=(10, 6))\n",
    "plt.plot(moving_avg_loss, label='Moving Average Training Loss')\n",
    "plt.xlabel('Steps')\n",
    "plt.ylabel('Loss')\n",
    "plt.title('Moving Average Training Loss Over Steps')\n",
    "plt.legend()\n",
    "plt.show()"
   ]
  },
  {
   "cell_type": "code",
   "execution_count": null,
   "metadata": {},
   "outputs": [],
   "source": []
  },
  {
   "cell_type": "code",
   "execution_count": null,
   "metadata": {},
   "outputs": [],
   "source": []
  },
  {
   "cell_type": "code",
   "execution_count": null,
   "metadata": {},
   "outputs": [],
   "source": []
  },
  {
   "cell_type": "markdown",
   "metadata": {},
   "source": [
    "---\n",
    "PASS\n",
    "\n",
    "---"
   ]
  },
  {
   "cell_type": "code",
   "execution_count": null,
   "metadata": {},
   "outputs": [],
   "source": [
    "\"\"\"\n",
    "    \n",
    "\"\"\""
   ]
  }
 ],
 "metadata": {
  "kernelspec": {
   "display_name": ".venv",
   "language": "python",
   "name": "python3"
  },
  "language_info": {
   "codemirror_mode": {
    "name": "ipython",
    "version": 3
   },
   "file_extension": ".py",
   "mimetype": "text/x-python",
   "name": "python",
   "nbconvert_exporter": "python",
   "pygments_lexer": "ipython3",
   "version": "3.11.2"
  }
 },
 "nbformat": 4,
 "nbformat_minor": 2
}
