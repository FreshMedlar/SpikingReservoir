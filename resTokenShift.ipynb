{
 "cells": [
  {
   "cell_type": "markdown",
   "metadata": {},
   "source": [
    "---\n",
    "FIRST\n",
    "\n",
    "---"
   ]
  },
  {
   "cell_type": "code",
   "execution_count": 1,
   "metadata": {},
   "outputs": [],
   "source": [
    "# read it in to inspect it\n",
    "with open('tinyshakespeare.txt', 'r', encoding='utf-8') as f:\n",
    "    text = f.read()"
   ]
  },
  {
   "cell_type": "code",
   "execution_count": 2,
   "metadata": {},
   "outputs": [
    {
     "name": "stdout",
     "output_type": "stream",
     "text": [
      "length of dataset in characters:  1115394\n",
      "\n",
      " !$&',-.3:;?ABCDEFGHIJKLMNOPQRSTUVWXYZabcdefghijklmnopqrstuvwxyz\n",
      "65\n",
      " \n"
     ]
    }
   ],
   "source": [
    "print(\"length of dataset in characters: \", len(text))\n",
    "# here are all the unique characters that occur in this text\n",
    "chars = sorted(list(set(text)))\n",
    "vocab_size = len(chars)\n",
    "print(''.join(chars))\n",
    "print(vocab_size)\n",
    "print(chars[1])"
   ]
  },
  {
   "cell_type": "code",
   "execution_count": 3,
   "metadata": {},
   "outputs": [
    {
     "name": "stdout",
     "output_type": "stream",
     "text": [
      "[46, 47, 47, 1, 58, 46, 43, 56, 43]\n",
      "hii there\n"
     ]
    }
   ],
   "source": [
    "# create a mapping from characters to integers\n",
    "stoi = { ch:i for i,ch in enumerate(chars) }\n",
    "itos = { i:ch for i,ch in enumerate(chars) }\n",
    "encode = lambda s: [stoi[c] for c in s] # encoder: take a string, output a list of integers\n",
    "decode = lambda l: ''.join([itos[i] for i in l]) # decoder: take a list of integers, output a string\n",
    "\n",
    "print(encode(\"hii there\"))\n",
    "print(decode(encode(\"hii there\")))"
   ]
  },
  {
   "cell_type": "code",
   "execution_count": 4,
   "metadata": {},
   "outputs": [
    {
     "name": "stdout",
     "output_type": "stream",
     "text": [
      "torch.Size([1115394]) torch.int64\n"
     ]
    }
   ],
   "source": [
    "# let's now encode the entire text dataset and store it into a torch.Tensor\n",
    "import torch # we use PyTorch: https://pytorch.org\n",
    "data = torch.tensor(encode(text), dtype=torch.long)\n",
    "print(data.shape, data.dtype)"
   ]
  },
  {
   "cell_type": "code",
   "execution_count": 5,
   "metadata": {},
   "outputs": [],
   "source": [
    "# Let's now split up the data into train and validation sets\n",
    "n = int(0.9*len(data)) # first 90% will be train, rest val\n",
    "train_data = data[:n]\n",
    "val_data = data[n:]"
   ]
  },
  {
   "cell_type": "markdown",
   "metadata": {},
   "source": [
    "---\n",
    "We now need to make characters into spike trains\n",
    "\n",
    "---"
   ]
  },
  {
   "cell_type": "code",
   "execution_count": 6,
   "metadata": {},
   "outputs": [],
   "source": [
    "import numpy as np\n",
    "\n",
    "def generate_spike_trains(input_data, U_max, U_min, N_sample):\n",
    "    \"\"\"\n",
    "    Generate spike trains using Poisson encoding.\n",
    "    \n",
    "    Parameters:\n",
    "        input_data (numpy.ndarray): Normalized input data (e.g., between U_min and U_max).\n",
    "        U_max (float): Maximum value of the input range.\n",
    "        U_min (float): Minimum value of the input range.\n",
    "        N_sample (int): Number of spike samples.\n",
    "    \n",
    "    Returns:\n",
    "        spike_trains (numpy.ndarray): Generated spike trains (0s and 1s).\n",
    "    \"\"\"\n",
    "    # Calculate average spike interval\n",
    "    h_k = N_sample * (U_max - input_data) / (U_max - U_min)\n",
    "    \n",
    "    # Generate intervals using Poisson distribution\n",
    "    intervals = np.random.poisson(h_k)\n",
    "    \n",
    "    # Generate spike trains\n",
    "    spike_trains = np.zeros((len(input_data), N_sample))\n",
    "    for i, interval in enumerate(intervals):\n",
    "        spike_indices = np.cumsum(np.random.choice(np.arange(1, N_sample + 1), interval, replace=False))\n",
    "        spike_indices = spike_indices[spike_indices < N_sample]\n",
    "        spike_trains[i, spike_indices] = 111\n",
    "    \n",
    "    return spike_trains\n",
    "\n",
    "\n",
    "# # Example input data\n",
    "# input_data = np.array([0.1, 0.4, 0.7, 0.9])  # Normalized input\n",
    "# U_max = 1.0\n",
    "# U_min = 0.0\n",
    "# N_sample = 100  # Spike sampling times\n",
    "\n",
    "# # Generate spike trains\n",
    "# spikes = generate_spike_trains(input_data, U_max, U_min, N_sample)\n",
    "# print(\"Generated Spike Trains:\")\n",
    "# # print(spikes)\n"
   ]
  },
  {
   "cell_type": "code",
   "execution_count": 7,
   "metadata": {},
   "outputs": [],
   "source": [
    "# SIMPLEST ENCODING\n",
    "# each character activate 1 neuron, fixed\n",
    "\n",
    "def char_to_spike(char):\n",
    "    \"\"\"\n",
    "    One hot encoding of a character\n",
    "    \n",
    "    Parameters: \n",
    "        char (string): the character to encode\n",
    "    \n",
    "    Returns:\n",
    "        np.array of dimensions (N_sam, 65)   \n",
    "    \"\"\"\n",
    "    spikes = torch.zeros((1, 65))\n",
    "    spikes[0, char] = 1\n",
    "\n",
    "    return spikes\n",
    "\n",
    "# print(char_to_spike(0))"
   ]
  },
  {
   "cell_type": "markdown",
   "metadata": {},
   "source": [
    "---\n",
    "Create the reservoire\n",
    "\n",
    "N_res is the number of neurons in the reservoir\n",
    "\n",
    "---"
   ]
  },
  {
   "cell_type": "code",
   "execution_count": 27,
   "metadata": {},
   "outputs": [],
   "source": [
    "# import numpy as np\n",
    "# from scipy.sparse import random\n",
    "# from scipy.sparse.linalg import eigs  # For sparse eigenvalue computation\n",
    "\n",
    "# # Parameters\n",
    "# N_res = 3000  # Size of the reservoir (N_res x N_res)\n",
    "# eta = 0.05    # Sparsity degree (10% non-zero entries)\n",
    "\n",
    "# def uniform_rvs(size):\n",
    "#     return np.random.uniform(low=-1.0, high=1.0, size=size)\n",
    "# # Generate a sparse matrix with uniform random values in [-1, 1]\n",
    "# W = random(N_res, N_res, density=eta, format='csr', data_rvs=uniform_rvs)\n",
    "\n",
    "# # Convert to a dense matrix (optional, for visualization or further processing)\n",
    "# W_dense = W.toarray()\n",
    "\n",
    "# #Calculate the max eigenvalue and find the max\n",
    "# max_eigenvalue = eigs(W, k=1, which='LM', return_eigenvectors=False)[0].real\n",
    "\n",
    "# # Normalize W to get W_res\n",
    "# rho = 0.9\n",
    "# W_res = rho * (W / max_eigenvalue)\n",
    "# W_res = torch.from_numpy(W_dense).to(torch.float32)"
   ]
  },
  {
   "cell_type": "markdown",
   "metadata": {},
   "source": [
    "---\n",
    "BATCH EXAMPLE\n",
    "\n",
    "---"
   ]
  },
  {
   "cell_type": "code",
   "execution_count": 8,
   "metadata": {},
   "outputs": [],
   "source": [
    "torch.manual_seed(1337)\n",
    "\n",
    "def get_batch(split, block_size, batch_size):\n",
    "    # generate a small batch of data of inputs x and targets y\n",
    "    data = train_data if split == 'train' else val_data\n",
    "    ix = torch.randint(len(data) - block_size, (batch_size,))\n",
    "    x = torch.stack([data[i:i+block_size] for i in ix])\n",
    "    y = torch.stack([data[i+1:i+block_size+1] for i in ix])\n",
    "    return x, y\n",
    "\n",
    "xb, yb = get_batch('train', 8, 4)\n",
    "# print('inputs:')\n",
    "# print(xb.shape)\n",
    "# print(xb)\n",
    "# print('targets:')\n",
    "# print(yb.shape)\n",
    "# print(yb)\n",
    "\n",
    "# print('----')\n",
    "\n",
    "# for b in range(batch_size): # batch dimension\n",
    "#     for t in range(block_size): # time dimension\n",
    "#         context = xb[b, :t+1]\n",
    "#         target = yb[b,t]\n",
    "#         print(f\"when input is {context.tolist()} the target: {target}\")"
   ]
  },
  {
   "cell_type": "code",
   "execution_count": 9,
   "metadata": {},
   "outputs": [],
   "source": [
    "def tensor_to_one_hot(input_tensor, num_classes=1000):\n",
    "    \"\"\"\n",
    "    One hot encode all the data in a batch\n",
    "    \"\"\"\n",
    "    batch_size, seq_len = input_tensor.shape\n",
    "\n",
    "    # Create a zero tensor of shape (batch_size, seq_len, num_classes)\n",
    "    one_hot_tensor = torch.zeros((batch_size, seq_len, num_classes), dtype=torch.float32)\n",
    "\n",
    "    # Fill the one-hot tensor\n",
    "    for i in range(batch_size):\n",
    "        for j in range(seq_len):\n",
    "            one_hot_tensor[i, j, input_tensor[i, j]] = 1\n",
    "\n",
    "    return one_hot_tensor\n",
    "\n",
    "# Example usage\n",
    "# input_tensor = torch.tensor([[24, 43, 58,  5, 57,  1, 46, 43],\n",
    "#                               [44, 53, 56,  1, 58, 46, 39, 58],\n",
    "#                               [52, 58,  1, 58, 46, 39, 58,  1],\n",
    "#                               [25, 17, 27, 10,  0, 21,  1, 54]])\n",
    "\n",
    "# one_hot_encoded_tensor = tensor_to_one_hot(torch.zeros((1, 1), dtype=torch.long))\n",
    "# print(one_hot_encoded_tensor.shape)"
   ]
  },
  {
   "cell_type": "markdown",
   "metadata": {},
   "source": [
    "---\n",
    "Trainable output layer\n",
    "\n",
    "---"
   ]
  },
  {
   "cell_type": "code",
   "execution_count": 51,
   "metadata": {},
   "outputs": [],
   "source": [
    "import torch\n",
    "import torch.nn as nn\n",
    "from torch.nn import functional as F\n",
    "import torch.optim as optim\n",
    "import numpy as np\n",
    "from scipy.sparse import random\n",
    "from scipy.sparse.linalg import eigs  # For sparse eigenvalue computation\n",
    "\n",
    "class SingleLayerNN(nn.Module):\n",
    "    def __init__(self, input_size=3000, hidden_size=500 ,output_size=65):\n",
    "        super(SingleLayerNN, self).__init__()\n",
    "\n",
    "        self.linear = nn.Linear(input_size, output_size)\n",
    "\n",
    "        # self.linear1 = nn.Linear(input_size, hidden_size)\n",
    "        # self.linear2 = nn.Linear(hidden_size, output_size)\n",
    "        # self.tanh = nn.Tanh()  # Define the ReLU activation function\n",
    "\n",
    "        self.create_reservoir()\n",
    "    \n",
    "    def reservoir_forward(self, input, targets=None):\n",
    "\n",
    "\n",
    "        xb_hot = tensor_to_one_hot(input, num_classes=3000)\n",
    "        B, T, C = xb_hot.shape\n",
    "        output = torch.zeros(B, T, 65)\n",
    "\n",
    "        if T > 1:\n",
    "            for b in range(T - 1):\n",
    "                xb_hot[:, b, :] = torch.atan(xb_hot[:, b, :] @ self.W_res)\n",
    "                xb_hot[:, b + 1, :] += xb_hot[:, b, :]\n",
    "            xb_hot[:, T - 1, :] = torch.atan(xb_hot[:, T - 2, :] @ self.W_res)\n",
    "        else:\n",
    "            xb_hot[:, 0, :] = torch.atan(xb_hot[:, 0, :] @ self.W_res)\n",
    "\n",
    "        output, loss = self(xb_hot, targets)\n",
    "\n",
    "        return output, loss\n",
    "\n",
    "    def forward(self, x, targets=None):\n",
    "        # # Shift xb_hot to get the previous inputs\n",
    "        # prev_xb_hot = torch.zeros_like(x)  # Create a zero tensor with the same shape\n",
    "        # prev_xb_hot[:, 1:, :] = x[:, :-1, :]  # Shift xb_hot to the right (first step has no previous data)\n",
    "        # xb_combined = torch.cat([prev_xb_hot[:, 1:, :], x[:, 1:, :]], dim=-1)  # (B, T-1, 2000)  # Concatenate previous and current inputs along feature dimension\n",
    "        \n",
    "\n",
    "        # x = self.linear1(x) # (B, T, C)\n",
    "        # x = self.tanh(x)\n",
    "        # output = self.linear2(x)\n",
    "        \n",
    "        x = self.linear(x)\n",
    "        output = torch.tanh(x)\n",
    "\n",
    "        # print(output.shape)\n",
    "\n",
    "\n",
    "        if targets == None:\n",
    "            loss = None\n",
    "        else:\n",
    "            B, T, C = output.shape\n",
    "            output = output.view(B*T, C) \n",
    "            targets = targets.view(B*T)\n",
    "            loss = F.cross_entropy(output, targets)\n",
    "\n",
    "        return output, loss\n",
    "    \n",
    "    def create_reservoir(self, N_res=3000, eta=0.01):\n",
    "        def uniform_rvs(size):\n",
    "            return np.random.uniform(low=-1.0, high=1.0, size=size)\n",
    "        # Generate a sparse matrix with uniform random values in [-1, 1]\n",
    "        W = random(N_res, N_res, density=eta, format='csr', data_rvs=uniform_rvs)\n",
    "\n",
    "        # Convert to a dense matrix (optional, for visualization or further processing)\n",
    "        W_dense = W.toarray()\n",
    "\n",
    "        #Calculate the max eigenvalue and find the max\n",
    "        max_eigenvalue = eigs(W, k=1, which='LM', return_eigenvectors=False)[0].real\n",
    "\n",
    "        # Normalize W to get W_res\n",
    "        rho = 0.9\n",
    "        W_res = rho * (W / max_eigenvalue)\n",
    "        W_res = torch.from_numpy(W_dense)\n",
    "        W_res = W_res.to(torch.float32)\n",
    "        self.W_res = W_res\n",
    "        return 0\n",
    "    \n",
    "    def generate(self, idx, max_new_tokens):\n",
    "        # idx is (B, T) array of indices in the current context\n",
    "        for _ in range(max_new_tokens):\n",
    "            # get the predictions\n",
    "            logits, loss = self.reservoir_forward(idx)\n",
    "            # focus only on the last time step\n",
    "            logits = logits[:, -1, :] # becomes (B, C)\n",
    "            # apply softmax to get probabilities\n",
    "            probs = F.softmax(logits, dim=-1) # (B, C)\n",
    "            # sample from the distribution\n",
    "            idx_next = torch.multinomial(probs, num_samples=1) # (B, 1)\n",
    "            # append sampled index to the running sequence\n",
    "            idx = torch.cat((idx, idx_next), dim=1) # (B, T+1)\n",
    "        return idx\n"
   ]
  },
  {
   "cell_type": "code",
   "execution_count": 52,
   "metadata": {},
   "outputs": [
    {
     "ename": "KeyboardInterrupt",
     "evalue": "",
     "output_type": "error",
     "traceback": [
      "\u001b[0;31m---------------------------------------------------------------------------\u001b[0m",
      "\u001b[0;31mKeyboardInterrupt\u001b[0m                         Traceback (most recent call last)",
      "Cell \u001b[0;32mIn[52], line 3\u001b[0m\n\u001b[1;32m      1\u001b[0m model \u001b[38;5;241m=\u001b[39m SingleLayerNN(input_size\u001b[38;5;241m=\u001b[39m\u001b[38;5;241m3000\u001b[39m, output_size\u001b[38;5;241m=\u001b[39m\u001b[38;5;241m65\u001b[39m)\n\u001b[0;32m----> 3\u001b[0m output, loss \u001b[38;5;241m=\u001b[39m \u001b[43mmodel\u001b[49m\u001b[38;5;241;43m.\u001b[39;49m\u001b[43mreservoir_forward\u001b[49m\u001b[43m(\u001b[49m\u001b[43mxb\u001b[49m\u001b[43m,\u001b[49m\u001b[43m \u001b[49m\u001b[43myb\u001b[49m\u001b[43m)\u001b[49m\n\u001b[1;32m      4\u001b[0m \u001b[38;5;28mprint\u001b[39m(output\u001b[38;5;241m.\u001b[39mshape)\n\u001b[1;32m      5\u001b[0m \u001b[38;5;28mprint\u001b[39m(loss)\n",
      "Cell \u001b[0;32mIn[51], line 30\u001b[0m, in \u001b[0;36mSingleLayerNN.reservoir_forward\u001b[0;34m(self, input, targets)\u001b[0m\n\u001b[1;32m     28\u001b[0m \u001b[38;5;28;01mif\u001b[39;00m T \u001b[38;5;241m>\u001b[39m \u001b[38;5;241m1\u001b[39m:\n\u001b[1;32m     29\u001b[0m     \u001b[38;5;28;01mfor\u001b[39;00m b \u001b[38;5;129;01min\u001b[39;00m \u001b[38;5;28mrange\u001b[39m(T \u001b[38;5;241m-\u001b[39m \u001b[38;5;241m1\u001b[39m):\n\u001b[0;32m---> 30\u001b[0m         xb_hot[:, b, :] \u001b[38;5;241m=\u001b[39m \u001b[43mtorch\u001b[49m\u001b[38;5;241;43m.\u001b[39;49m\u001b[43matan\u001b[49m\u001b[43m(\u001b[49m\u001b[43mxb_hot\u001b[49m\u001b[43m[\u001b[49m\u001b[43m:\u001b[49m\u001b[43m,\u001b[49m\u001b[43m \u001b[49m\u001b[43mb\u001b[49m\u001b[43m,\u001b[49m\u001b[43m \u001b[49m\u001b[43m:\u001b[49m\u001b[43m]\u001b[49m\u001b[43m \u001b[49m\u001b[38;5;241;43m@\u001b[39;49m\u001b[43m \u001b[49m\u001b[38;5;28;43mself\u001b[39;49m\u001b[38;5;241;43m.\u001b[39;49m\u001b[43mW_res\u001b[49m\u001b[43m)\u001b[49m\n\u001b[1;32m     31\u001b[0m         xb_hot[:, b \u001b[38;5;241m+\u001b[39m \u001b[38;5;241m1\u001b[39m, :] \u001b[38;5;241m+\u001b[39m\u001b[38;5;241m=\u001b[39m xb_hot[:, b, :]\n\u001b[1;32m     32\u001b[0m     xb_hot[:, T \u001b[38;5;241m-\u001b[39m \u001b[38;5;241m1\u001b[39m, :] \u001b[38;5;241m=\u001b[39m torch\u001b[38;5;241m.\u001b[39matan(xb_hot[:, T \u001b[38;5;241m-\u001b[39m \u001b[38;5;241m2\u001b[39m, :] \u001b[38;5;241m@\u001b[39m \u001b[38;5;28mself\u001b[39m\u001b[38;5;241m.\u001b[39mW_res)\n",
      "\u001b[0;31mKeyboardInterrupt\u001b[0m: "
     ]
    }
   ],
   "source": [
    "model = SingleLayerNN(input_size=3000, output_size=65)\n",
    "\n",
    "output, loss = model.reservoir_forward(xb, yb)\n",
    "print(output.shape)\n",
    "print(loss)\n"
   ]
  },
  {
   "cell_type": "code",
   "execution_count": 47,
   "metadata": {},
   "outputs": [],
   "source": [
    "optimizer = torch.optim.AdamW(model.parameters(), lr=3e-5)"
   ]
  },
  {
   "cell_type": "code",
   "execution_count": 142,
   "metadata": {},
   "outputs": [
    {
     "name": "stdout",
     "output_type": "stream",
     "text": [
      "\n",
      "\n",
      "ueua. aD hsfiwJl,\n",
      "kc\n",
      "rBa\n",
      "\n",
      "hN.nS&ti\n",
      "WRLh;xWlS\n",
      "Rk&wiy\n",
      "sxIodoRA$$ruo;QYhHjdHKDIhl  wlaveRm;IHZ,tc-.:Id\n"
     ]
    }
   ],
   "source": [
    "print(decode(model.generate(idx = torch.zeros((1, 1), dtype=torch.long), max_new_tokens=100)[0].tolist()))"
   ]
  },
  {
   "cell_type": "code",
   "execution_count": null,
   "metadata": {},
   "outputs": [
    {
     "name": "stdout",
     "output_type": "stream",
     "text": [
      "Step 1, Loss: 3.8558595180511475\n",
      "Step 2, Loss: 3.8637337684631348\n",
      "Step 3, Loss: 3.8497941493988037\n",
      "Step 4, Loss: 3.8578310012817383\n",
      "Step 5, Loss: 3.857555866241455\n"
     ]
    },
    {
     "data": {
      "image/png": "[encoded data removed]",
      "text/plain": [
       "<Figure size 1000x600 with 1 Axes>"
      ]
     },
     "metadata": {},
     "output_type": "display_data"
    }
   ],
   "source": [
    "import matplotlib.pyplot as plt\n",
    "\n",
    "# Initialize a list to store the loss values\n",
    "loss_values = []\n",
    "\n",
    "batch_size = 4\n",
    "block_size = 16384\n",
    "for steps in range(5):  # Increase the number of steps for good results...\n",
    "\n",
    "    # Sample a batch of data\n",
    "    xb, yb = get_batch('train', block_size, batch_size)\n",
    "\n",
    "    # Evaluate the loss\n",
    "    logits, loss = model.reservoir_forward(xb, yb)\n",
    "    optimizer.zero_grad(set_to_none=True)\n",
    "    loss.backward()\n",
    "    torch.nn.utils.clip_grad_norm_(model.parameters(), max_norm=1.0)\n",
    "    optimizer.step()\n",
    "\n",
    "    # Append the loss value to the list\n",
    "    loss_values.append(loss.item())\n",
    "\n",
    "    # Print the loss value\n",
    "    print(f\"Step {steps + 1}, Loss: {loss.item()}\")\n",
    "\n",
    "# Plot the loss values\n",
    "plt.figure(figsize=(10, 6))\n",
    "plt.plot(loss_values, label='Training Loss')\n",
    "plt.xlabel('Steps')\n",
    "plt.ylabel('Loss')\n",
    "plt.title('Training Loss Over Steps')\n",
    "plt.legend()\n",
    "plt.show()"
   ]
  },
  {
   "cell_type": "code",
   "execution_count": null,
   "metadata": {},
   "outputs": [],
   "source": [
    "# Calculate the moving average of the loss values\n",
    "window_size = 10  # You can adjust the window size for smoother/rougher averaging\n",
    "moving_avg_loss = np.convolve(loss_values, np.ones(window_size)/window_size, mode='valid')\n",
    "\n",
    "# Plot the moving average of the loss values\n",
    "plt.figure(figsize=(10, 6))\n",
    "plt.plot(moving_avg_loss, label='Moving Average Training Loss')\n",
    "plt.xlabel('Steps')\n",
    "plt.ylabel('Loss')\n",
    "plt.title('Moving Average Training Loss Over Steps')\n",
    "plt.legend()\n",
    "plt.show()"
   ]
  },
  {
   "cell_type": "code",
   "execution_count": null,
   "metadata": {},
   "outputs": [],
   "source": []
  },
  {
   "cell_type": "code",
   "execution_count": null,
   "metadata": {},
   "outputs": [],
   "source": []
  },
  {
   "cell_type": "code",
   "execution_count": null,
   "metadata": {},
   "outputs": [],
   "source": []
  },
  {
   "cell_type": "markdown",
   "metadata": {},
   "source": [
    "---\n",
    "PASS\n",
    "\n",
    "---"
   ]
  },
  {
   "cell_type": "code",
   "execution_count": null,
   "metadata": {},
   "outputs": [],
   "source": [
    "\"\"\"\n",
    "    \n",
    "\"\"\""
   ]
  }
 ],
 "metadata": {
  "kernelspec": {
   "display_name": ".venv",
   "language": "python",
   "name": "python3"
  },
  "language_info": {
   "codemirror_mode": {
    "name": "ipython",
    "version": 3
   },
   "file_extension": ".py",
   "mimetype": "text/x-python",
   "name": "python",
   "nbconvert_exporter": "python",
   "pygments_lexer": "ipython3",
   "version": "3.13.2"
  }
 },
 "nbformat": 4,
 "nbformat_minor": 2
}
